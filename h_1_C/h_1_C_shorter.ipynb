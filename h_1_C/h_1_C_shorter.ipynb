{
 "cells": [
  {
   "cell_type": "code",
   "execution_count": null,
   "metadata": {},
   "outputs": [],
   "source": [
    "def compress(lst):\n",
    "    ans =[lst[0]]\n",
    "    for now in lst[1:]:\n",
    "        if now != ans[-1]:\n",
    "            ans.append(now)\n",
    "    if len(ans)>1 and set(ans[0])=={'.'}:\n",
    "        ans.pop(0)\n",
    "    if len(ans)>1 and set(ans[-1])=={'.'}:\n",
    "        ans.pop()\n",
    "    return ans"
   ]
  },
  {
   "cell_type": "code",
   "execution_count": null,
   "metadata": {},
   "outputs": [],
   "source": [
    "def invert(lst):\n",
    "    ans=[]\n",
    "    for i in range(len(lst[0])):\n",
    "        ans.append([])\n",
    "    for now in lst:\n",
    "        for i in range(len(now)):\n",
    "            ans[i].append(now[i])\n",
    "    for i in range(len(ans)):\n",
    "        ans[i]=''.join(ans[i])\n",
    "    return ans"
   ]
  },
  {
   "cell_type": "code",
   "execution_count": null,
   "metadata": {},
   "outputs": [],
   "source": [
    "n=int(input())\n",
    "a=[]\n",
    "for i in range(n):\n",
    "    a.append(input())\n",
    "a=compress(a)\n",
    "a=invert(a)\n",
    "a=compress(a)\n",
    "a=invert(a)\n",
    "if a == ['#']:\n",
    "    print (\"I\")\n",
    "elif a == ['###',\n",
    "           '#.#',\n",
    "           '###']:\n",
    "    print('O')\n",
    "elif a == ['##',\n",
    "           '#.',\n",
    "           '##']:\n",
    "    print('C')\n",
    "elif a == ['#.',\n",
    "           '##']:\n",
    "    print('L')\n",
    "#same with P, H\n",
    "else:\n",
    "    print('X')"
   ]
  }
 ],
 "metadata": {
  "kernelspec": {
   "display_name": "mltest",
   "language": "python",
   "name": "python3"
  },
  "language_info": {
   "name": "python",
   "version": "3.12.5"
  }
 },
 "nbformat": 4,
 "nbformat_minor": 2
}
