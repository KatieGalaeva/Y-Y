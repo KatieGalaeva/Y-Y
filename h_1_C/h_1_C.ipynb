{
 "cells": [
  {
   "cell_type": "code",
   "execution_count": 1233,
   "metadata": {},
   "outputs": [
    {
     "name": "stdout",
     "output_type": "stream",
     "text": [
      "['........', '.####...', '.#.##...', '.####...', '.#.##...', '.####...', '.####...', '.####...']\n"
     ]
    }
   ],
   "source": [
    "with open('input.txt') as file:\n",
    "    n=int(file.readline())\n",
    "    lines=[]\n",
    "    for i in range(int(n)):\n",
    "        lines.append(file.readline().replace('\\n',''))\n",
    "file.close()\n",
    "print(lines)"
   ]
  },
  {
   "cell_type": "code",
   "execution_count": 1234,
   "metadata": {},
   "outputs": [
    {
     "data": {
      "text/plain": [
       "['####', '#.##', '####', '#.##', '####', '####', '####']"
      ]
     },
     "execution_count": 1234,
     "metadata": {},
     "output_type": "execute_result"
    }
   ],
   "source": [
    "def clean(lines, n):\n",
    "    count_off_x=0\n",
    "    count_off_y=0\n",
    "    m=n\n",
    "    i,j=0,0\n",
    "    while j < n:\n",
    "        count_off_y=0\n",
    "        i=0\n",
    "        while i < m:\n",
    "            if lines[i][j]=='.':\n",
    "                count_off_y+=1\n",
    "            i+=1\n",
    "        if count_off_y==m:\n",
    "            if j==0:\n",
    "                lines = [ele[1:] for ele in lines]\n",
    "            else:\n",
    "                lines = [ele[:-1] for ele in lines]\n",
    "            n=n-1\n",
    "        else:\n",
    "            j+=1\n",
    "\n",
    "    j=0\n",
    "    i=0\n",
    "    while j < m:\n",
    "        count_off_x=0\n",
    "        i=0\n",
    "        while i < n:\n",
    "            if lines[j][i]=='.':\n",
    "                count_off_x+=1\n",
    "            i+=1\n",
    "        if count_off_x==n:\n",
    "            if j==0:\n",
    "                lines=lines[1:]\n",
    "                m=m-1\n",
    "            elif j==m-1:\n",
    "                lines=lines[:-1]\n",
    "                m=m-1\n",
    "            else:\n",
    "                j+=1\n",
    "        else:\n",
    "            j+=1\n",
    "    j=m-1\n",
    "    i=0\n",
    "    while j>0:\n",
    "        count_off_x=0\n",
    "        i=0\n",
    "        while i < n:\n",
    "            if lines[j][i]=='.':\n",
    "                count_off_x+=1\n",
    "            i+=1\n",
    "        if count_off_x==n:\n",
    "            if j==0:\n",
    "                lines=lines[1:]\n",
    "                m=m-1\n",
    "            elif j==m-1:\n",
    "                lines=lines[:-1]\n",
    "                m=m-1\n",
    "                j-=1\n",
    "            else:\n",
    "                j-=1\n",
    "        else:\n",
    "            j-=1\n",
    "    \n",
    "    \n",
    "    \n",
    "        \n",
    "    return lines\n",
    "lines=clean(lines,n)\n",
    "lines"
   ]
  },
  {
   "cell_type": "code",
   "execution_count": 1235,
   "metadata": {},
   "outputs": [
    {
     "data": {
      "text/plain": [
       "(7, 4)"
      ]
     },
     "execution_count": 1235,
     "metadata": {},
     "output_type": "execute_result"
    }
   ],
   "source": [
    "m=len(lines[0]) #colimn\n",
    "n=len(lines) #row\n",
    "n,m"
   ]
  },
  {
   "cell_type": "code",
   "execution_count": 1236,
   "metadata": {},
   "outputs": [
    {
     "name": "stdout",
     "output_type": "stream",
     "text": [
      "[['#', '#', '#', '#'], ['#', '.', '#', '#'], ['#', '#', '#', '#'], ['#', '.', '#', '#'], ['#', '#', '#', '#'], ['#', '#', '#', '#'], ['#', '#', '#', '#']]\n"
     ]
    }
   ],
   "source": [
    "a=[[0]*m for i in range(n)]\n",
    "\n",
    "for j in range(n):\n",
    "    for i in range(m):\n",
    "        a[j][i] = lines[j][i]\n",
    "print(a)\n"
   ]
  },
  {
   "cell_type": "code",
   "execution_count": 1237,
   "metadata": {},
   "outputs": [
    {
     "name": "stdout",
     "output_type": "stream",
     "text": [
      "[[1, 1, 1, 1], [3, 1, 3, 1]]\n"
     ]
    }
   ],
   "source": [
    "def findend(i,j,matrix,output,index):\n",
    "    x = len(matrix)\n",
    "    y = len(matrix[0])\n",
    "    flagc = 0\n",
    "    flagr = 0\n",
    "\n",
    "    for m in range(i,x): \n",
    "        if matrix[m][j] == '#': \n",
    "            flagr = 1 \n",
    "            break\n",
    "        if matrix[m][j] == '-': \n",
    "            pass\n",
    "        for n in range(j, y): \n",
    "            if matrix[m][n] == '#':\n",
    "                flagc = 1 \n",
    "                break\n",
    "            matrix[m][n] = '-'\n",
    "\n",
    "    if flagr == 1:\n",
    "        output[index].append(m-1)\n",
    "    else:\n",
    "        output[index].append(m) \n",
    "\n",
    "    if flagc == 1:\n",
    "        output[index].append(n-1)\n",
    "    else:\n",
    "        output[index].append(n) \n",
    "\n",
    "\n",
    "def get_rectangle_coordinates(matrix):\n",
    "\n",
    "    size_of_array = len(matrix) \n",
    "    output = [] \n",
    "    index = -1\n",
    "\n",
    "    for i in range(0,size_of_array):\n",
    "        for j in range(0, len(matrix[0])):\n",
    "            if matrix[i][j] == '.':\n",
    "                output.append([i, j]) \n",
    "                index = index + 1        \n",
    "                findend(i, j, matrix, output, index) \n",
    "\n",
    "\n",
    "    return output\n",
    "\n",
    "\n",
    "offs_coords=get_rectangle_coordinates(a)\n",
    "\n",
    "print(offs_coords)\n",
    "\n"
   ]
  },
  {
   "cell_type": "code",
   "execution_count": 1238,
   "metadata": {},
   "outputs": [
    {
     "name": "stdout",
     "output_type": "stream",
     "text": [
      "4\n"
     ]
    }
   ],
   "source": [
    "\n",
    "print(m)"
   ]
  },
  {
   "cell_type": "code",
   "execution_count": 1239,
   "metadata": {},
   "outputs": [
    {
     "name": "stdout",
     "output_type": "stream",
     "text": [
      "X\n"
     ]
    }
   ],
   "source": [
    "#I, O, C, H\n",
    "\n",
    "\n",
    "\n",
    "x1=0\n",
    "y1=m-1\n",
    "x2=n-1\n",
    "y2=0\n",
    "if lines[0][0]=='#' and lines[0][m-1]=='#' and lines[n-1][0]=='#' and lines[n-1][m-1]=='#':        \n",
    "    #I\n",
    "    count=0\n",
    "    for j in range(n):\n",
    "        for i in range(m):\n",
    "            if lines[j][i]=='#':\n",
    "                count+=1\n",
    "    if count==n*m:\n",
    "        print('I')\n",
    "    #find coordinates offs boxes\n",
    "    #O, C\n",
    "    if len(offs_coords)==1:\n",
    "        x3,y3,x4,y4=offs_coords[0]\n",
    "    \n",
    "        if  x1<x3<x4 and x3<x4<x2 and y2<y3<y4 and y3<y4<y1 or x1<x3 and x3==x4 and x4<x2 and y2<y3 and y3==y4 and y4<y1 :\n",
    "            print('O')\n",
    "        elif x1<x3<x4 and x3<x4<x2 and y2<y3<y4 and y4==y1 or x1<x3 and x3==x4 and x4<x2 and y2<y3 and y3==y4 and y4==y1  :\n",
    "            print('C')\n",
    "        else:\n",
    "            print('X')\n",
    "\n",
    "    #H\n",
    "    elif len(offs_coords)==2:\n",
    "        \n",
    "        x3,y3,x4,y4=offs_coords[0]\n",
    "        x5,y5,x6,y6=offs_coords[1]\n",
    "        \n",
    "        if x1==x3 and x2==x6 and x4<x5<x6 and x4>x3 and y2<y5 and y5==y3 and y3<y6 and y6==y4 and y4<y1 or\\\n",
    "            x1==x3 and x2==x6 and x4<x5 and x5==x6 and x4==x3 and y2<y5 and y5==y3 and y3==y6 and y6==y4 and y4<y1:\n",
    "            print('H')\n",
    "        else:\n",
    "            print('X')\n",
    "        \n",
    "\n",
    "\n",
    "    elif len(offs_coords)>2:\n",
    "        print('X')\n",
    "\n",
    "\n",
    "    \n",
    "\n",
    "    \n",
    "# L\n",
    "elif lines[0][0]=='#' and lines[0][m-1]=='.' and lines[n-1][0]=='#' and lines[n-1][m-1]=='#':\n",
    "    \n",
    "    if len(offs_coords)==1:\n",
    "        x3,y3,x4,y4=offs_coords[0]\n",
    "        \n",
    "        if  y1==y4 and y2<y3<y1 and x1==x3 and x1<x4<x2 or y1==y4 and y2<y3 and y3==y1 and x1==x3 and x1==x4 and x4<x2 :\n",
    "            print('L')\n",
    "        else:\n",
    "            print('X')\n",
    "\n",
    "    else:\n",
    "        print('X')\n",
    "#P\n",
    "elif lines[0][0]=='#' and lines[0][m-1]=='#' and lines[n-1][0]=='#' and lines[n-1][m-1]=='.':\n",
    "    if len(offs_coords)==2:\n",
    "        x3,y3,x4,y4=offs_coords[0]\n",
    "        x5,y5,x6,y6=offs_coords[1]\n",
    "        #first for general\n",
    "        if x2==x6 and x1<x3<x4 and x4<x5<x6 and y1==y6 and y4<y5 and y2<y3<y4 and y5<y6 or\\\n",
    "            x2==x6 and x1<x3 and x3==x4 and x4<x5<x6 and y1==y6 and y4<y5 and y2<y3 and y3==y4 and y5<y6 or\\\n",
    "            x2==x6 and x1<x3<x4 and x4<x5 and x5==x6 and y1==y6 and y4<y5 and y2<y3<y4 and y5==y6 or\\\n",
    "            x2==x6 and x1<x3 and x3==x4 and x4<x5 and x5==x6 and y1==y6 and y4<y5 and y2<y3 and y3==y4 and y5==y6:\n",
    "            print('P')\n",
    "        else:\n",
    "            print('X')\n",
    "\n",
    "    else:\n",
    "        print('X')\n",
    "else:\n",
    "    print('X')\n",
    "\n"
   ]
  },
  {
   "cell_type": "code",
   "execution_count": null,
   "metadata": {},
   "outputs": [],
   "source": []
  },
  {
   "cell_type": "markdown",
   "metadata": {},
   "source": [
    "6\n",
    "#..#\n",
    "#..#\n",
    "####\n",
    "####\n",
    "#..#\n",
    "#..#"
   ]
  },
  {
   "cell_type": "code",
   "execution_count": 1240,
   "metadata": {},
   "outputs": [
    {
     "ename": "IndexError",
     "evalue": "string index out of range",
     "output_type": "error",
     "traceback": [
      "\u001b[1;31m---------------------------------------------------------------------------\u001b[0m",
      "\u001b[1;31mIndexError\u001b[0m                                Traceback (most recent call last)",
      "Cell \u001b[1;32mIn[1240], line 9\u001b[0m\n\u001b[0;32m      7\u001b[0m i\u001b[38;5;241m=\u001b[39m\u001b[38;5;241m0\u001b[39m\n\u001b[0;32m      8\u001b[0m \u001b[38;5;28;01mwhile\u001b[39;00m i \u001b[38;5;241m<\u001b[39m m:\n\u001b[1;32m----> 9\u001b[0m     \u001b[38;5;28;01mif\u001b[39;00m \u001b[43mlines\u001b[49m\u001b[43m[\u001b[49m\u001b[43mi\u001b[49m\u001b[43m]\u001b[49m\u001b[43m[\u001b[49m\u001b[43mj\u001b[49m\u001b[43m]\u001b[49m\u001b[38;5;241m==\u001b[39m\u001b[38;5;124m'\u001b[39m\u001b[38;5;124m.\u001b[39m\u001b[38;5;124m'\u001b[39m:\n\u001b[0;32m     10\u001b[0m         count_off_y\u001b[38;5;241m+\u001b[39m\u001b[38;5;241m=\u001b[39m\u001b[38;5;241m1\u001b[39m\n\u001b[0;32m     11\u001b[0m     i\u001b[38;5;241m+\u001b[39m\u001b[38;5;241m=\u001b[39m\u001b[38;5;241m1\u001b[39m\n",
      "\u001b[1;31mIndexError\u001b[0m: string index out of range"
     ]
    }
   ],
   "source": [
    "count_off_x=0\n",
    "count_off_y=0\n",
    "m=n\n",
    "i,j=0,0\n",
    "while j < n:\n",
    "    count_off_y=0\n",
    "    i=0\n",
    "    while i < m:\n",
    "        if lines[i][j]=='.':\n",
    "            count_off_y+=1\n",
    "        i+=1\n",
    "    if count_off_y==m:\n",
    "        if j==0:\n",
    "            lines = [ele[1:] for ele in lines]\n",
    "        else:\n",
    "            lines = [ele[:-1] for ele in lines]\n",
    "        n=n-1\n",
    "    else:\n",
    "        j+=1\n",
    "\n",
    "j=0\n",
    "i=0\n",
    "while j < m:\n",
    "    count_off_x=0\n",
    "    i=0\n",
    "    while i < n:\n",
    "        if lines[j][i]=='.':\n",
    "            count_off_x+=1\n",
    "        i+=1\n",
    "    if count_off_x==n:\n",
    "        if j==0:\n",
    "            lines.remove(lines[0])\n",
    "            m=m-1\n",
    "        elif j==m-1:\n",
    "            lines.remove(lines[-1])\n",
    "            m=m-1\n",
    "        else:\n",
    "            j+=1\n",
    "    else:\n",
    "        j+=1\n",
    "\n",
    "        \n",
    "print(lines)\n"
   ]
  },
  {
   "cell_type": "code",
   "execution_count": 1232,
   "metadata": {},
   "outputs": [
    {
     "data": {
      "text/plain": [
       "['#########',\n",
       " '#########',\n",
       " '#########',\n",
       " '#########',\n",
       " '#########',\n",
       " '#########',\n",
       " '#########',\n",
       " '#########']"
      ]
     },
     "execution_count": 1232,
     "metadata": {},
     "output_type": "execute_result"
    }
   ],
   "source": [
    "lines.remove(lines[1])\n",
    "lines"
   ]
  }
 ],
 "metadata": {
  "kernelspec": {
   "display_name": "mltest",
   "language": "python",
   "name": "python3"
  },
  "language_info": {
   "codemirror_mode": {
    "name": "ipython",
    "version": 3
   },
   "file_extension": ".py",
   "mimetype": "text/x-python",
   "name": "python",
   "nbconvert_exporter": "python",
   "pygments_lexer": "ipython3",
   "version": "3.12.5"
  }
 },
 "nbformat": 4,
 "nbformat_minor": 2
}
