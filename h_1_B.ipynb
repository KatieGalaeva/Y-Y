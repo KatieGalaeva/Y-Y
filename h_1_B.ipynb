{
 "cells": [
  {
   "cell_type": "code",
   "execution_count": 84,
   "metadata": {},
   "outputs": [],
   "source": [
    "A=int(input())\n",
    "B=int(input())\n",
    "C=int(input())\n",
    "D=int(input())"
   ]
  },
  {
   "cell_type": "code",
   "execution_count": 85,
   "metadata": {},
   "outputs": [
    {
     "name": "stdout",
     "output_type": "stream",
     "text": [
      "9 6\n"
     ]
    }
   ],
   "source": [
    "if A==0:\n",
    "    print(1, C+1)\n",
    "elif B==0:\n",
    "    print(1, D+1)\n",
    "elif C==0:\n",
    "    print(A+1, 1)\n",
    "elif D==0:\n",
    "    print(B+1, 1)\n",
    "if A!=0 and B!=0 and C!=0 and D!=0:\n",
    "    if A>B:\n",
    "        min_m=B\n",
    "    else:\n",
    "        min_m=A\n",
    "    if C>D:\n",
    "        min_n=D\n",
    "    else:\n",
    "        min_n=C\n",
    "    if min_m==min_n:\n",
    "        print(min_m+1, 1)\n",
    "    else:\n",
    "        print(min_m+1,min_n+1)\n",
    "if A==0 and B==0 and C==0 and D==0:\n",
    "    print(0,0)\n",
    "\n",
    "\n",
    "\n"
   ]
  }
 ],
 "metadata": {
  "kernelspec": {
   "display_name": "mltest",
   "language": "python",
   "name": "python3"
  },
  "language_info": {
   "codemirror_mode": {
    "name": "ipython",
    "version": 3
   },
   "file_extension": ".py",
   "mimetype": "text/x-python",
   "name": "python",
   "nbconvert_exporter": "python",
   "pygments_lexer": "ipython3",
   "version": "3.12.5"
  }
 },
 "nbformat": 4,
 "nbformat_minor": 2
}
