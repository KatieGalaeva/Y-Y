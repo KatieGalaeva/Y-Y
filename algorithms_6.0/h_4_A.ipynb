{
 "cells": [
  {
   "cell_type": "code",
   "execution_count": 20,
   "metadata": {},
   "outputs": [
    {
     "name": "stdout",
     "output_type": "stream",
     "text": [
      "{'Alexei': 'Peter_I', 'Anna': 'Peter_I', 'Elizabeth': 'Peter_I', 'Peter_II': 'Alexei', 'Peter_III': 'Anna', 'Paul_I': 'Peter_III', 'Alexander_I': 'Paul_I', 'Nicholaus_I': 'Paul_I'}\n"
     ]
    }
   ],
   "source": [
    "with open('input.txt') as file:\n",
    "    n=int(file.readline())\n",
    "    tree = {}\n",
    "    for i in range(int(n)-1):\n",
    "        child, parent = map(str, file.readline().replace('\\n','').split())\n",
    "        tree[child] = parent\n",
    "file.close()\n",
    "print(tree)"
   ]
  },
  {
   "cell_type": "code",
   "execution_count": null,
   "metadata": {},
   "outputs": [
    {
     "name": "stdout",
     "output_type": "stream",
     "text": [
      "Alexander_I 4\n",
      "Alexei 1\n",
      "Anna 1\n",
      "Elizabeth 1\n",
      "Nicholaus_I 4\n",
      "Paul_I 3\n",
      "Peter_I 0\n",
      "Peter_II 2\n",
      "Peter_III 2\n"
     ]
    },
    {
     "ename": "",
     "evalue": "",
     "output_type": "error",
     "traceback": [
      "\u001b[1;31mThe Kernel crashed while executing code in the current cell or a previous cell. \n",
      "\u001b[1;31mPlease review the code in the cell(s) to identify a possible cause of the failure. \n",
      "\u001b[1;31mClick <a href='https://aka.ms/vscodeJupyterKernelCrash'>here</a> for more info. \n",
      "\u001b[1;31mView Jupyter <a href='command:jupyter.viewOutput'>log</a> for further details."
     ]
    }
   ],
   "source": [
    "height={}\n",
    "def calculate_height(person, height):\n",
    "    if person in height:\n",
    "        return height[person]\n",
    "    if person not in tree:\n",
    "        height[person]=0\n",
    "        return 0\n",
    "    parent_height = calculate_height(tree[person], height)\n",
    "    height[person]=parent_height+1\n",
    "    return height[person]\n",
    "for person in set(tree.keys()) | set(tree.values()):\n",
    "    calculate_height(person, height)\n",
    "for person in sorted(height.keys()):\n",
    "    print(person, height[person])"
   ]
  }
 ],
 "metadata": {
  "kernelspec": {
   "display_name": "mltest",
   "language": "python",
   "name": "python3"
  },
  "language_info": {
   "codemirror_mode": {
    "name": "ipython",
    "version": 3
   },
   "file_extension": ".py",
   "mimetype": "text/x-python",
   "name": "python",
   "nbconvert_exporter": "python",
   "pygments_lexer": "ipython3",
   "version": "3.12.5"
  }
 },
 "nbformat": 4,
 "nbformat_minor": 2
}
