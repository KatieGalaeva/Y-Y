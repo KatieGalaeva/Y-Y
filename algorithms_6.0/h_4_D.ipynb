{
 "cells": [
  {
   "cell_type": "code",
   "execution_count": 22,
   "metadata": {},
   "outputs": [],
   "source": [
    "def add_element(key):\n",
    "    global root\n",
    "    if root is None:\n",
    "        tree[key] = {\"left\": None, \"right\": None}\n",
    "        root = key\n",
    "        return \"DONE\"\n",
    "    current = root\n",
    "    while True:\n",
    "        if key==current:\n",
    "            return \"ALREADY\"\n",
    "        elif key < current:\n",
    "            if tree[current]['left']==None:\n",
    "                tree[current]['left']=key\n",
    "                tree[key]={\"left\": None, \"right\": None}\n",
    "                return \"DONE\"\n",
    "            current = tree[current]['left']\n",
    "        else:\n",
    "            if tree[current]['right']==None:\n",
    "                tree[current]['right']=key\n",
    "                tree[key]={\"left\": None, \"right\": None}\n",
    "                return \"DONE\"\n",
    "            current = tree[current]['right']\n",
    "\n",
    "        \n",
    "    \n"
   ]
  },
  {
   "cell_type": "code",
   "execution_count": 23,
   "metadata": {},
   "outputs": [],
   "source": [
    "def search_element(key):\n",
    "    current = root\n",
    "    while current is not None:\n",
    "        if key == current:\n",
    "            return \"YES\"\n",
    "        elif key > current:\n",
    "            current = tree[current]['right']\n",
    "        else:\n",
    "            current = tree[current]['left']\n",
    "    return \"NO\"        "
   ]
  },
  {
   "cell_type": "code",
   "execution_count": 33,
   "metadata": {},
   "outputs": [],
   "source": [
    "def print_tree(tree):\n",
    "    \n",
    "    def traverse(current, depth, result):\n",
    "        if current is None:\n",
    "            return\n",
    "        traverse(tree[current][\"left\"], depth + 1, result)\n",
    "        result.append(\".\" * depth + str(current))\n",
    "        traverse(tree[current][\"right\"], depth + 1, result)\n",
    "\n",
    "    result = []\n",
    "    \n",
    "    traverse(root, 0, result)\n",
    "    \n",
    "    print(\"\\n\".join(result))\n"
   ]
  },
  {
   "cell_type": "code",
   "execution_count": null,
   "metadata": {},
   "outputs": [
    {
     "name": "stdout",
     "output_type": "stream",
     "text": [
      "DONE\n",
      "DONE\n",
      "DONE\n",
      "YES\n",
      "DONE\n",
      ".1\n",
      "2\n",
      "..3\n",
      ".4\n",
      "NO\n"
     ]
    }
   ],
   "source": [
    "with open('input_4_D.txt') as file:\n",
    "    tree = {}\n",
    "    root=None\n",
    "    for line in file:\n",
    "        a = line.split()\n",
    "        \n",
    "        if a[0]=='ADD':\n",
    "            print(add_element(int(a[1])))\n",
    "        elif a[0]=='SEARCH':\n",
    "            print(search_element(int(a[1])))\n",
    "        elif a[0]=='PRINTTREE':\n",
    "            print_tree(tree)\n",
    "file.close()"
   ]
  }
 ],
 "metadata": {
  "kernelspec": {
   "display_name": "mltest",
   "language": "python",
   "name": "python3"
  },
  "language_info": {
   "codemirror_mode": {
    "name": "ipython",
    "version": 3
   },
   "file_extension": ".py",
   "mimetype": "text/x-python",
   "name": "python",
   "nbconvert_exporter": "python",
   "pygments_lexer": "ipython3",
   "version": "3.12.5"
  }
 },
 "nbformat": 4,
 "nbformat_minor": 2
}
