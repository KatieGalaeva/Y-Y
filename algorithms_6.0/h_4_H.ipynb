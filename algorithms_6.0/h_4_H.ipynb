{
 "cells": [
  {
   "cell_type": "code",
   "execution_count": 28,
   "metadata": {},
   "outputs": [
    {
     "name": "stdout",
     "output_type": "stream",
     "text": [
      "5 0\n",
      "\n"
     ]
    }
   ],
   "source": [
    "from collections import defaultdict\n",
    "\n",
    "def dfs(v, parent):\n",
    "    # Инициализация: если вершина не помечена, стоимость = 0, если помечена - стоимость пометки.\n",
    "    dp[v][0] = 0\n",
    "    dp[v][1] = a[v]  # Стоимость пометки вершины v\n",
    "\n",
    "    for u in adj[v]:\n",
    "        if u == parent:\n",
    "            continue\n",
    "        dfs(u, v)\n",
    "\n",
    "        # Если вершина v не помечена, все её соседи должны быть помечены\n",
    "        dp[v][0] += dp[u][1]\n",
    "        \n",
    "        # Если вершина v помечена, то её сосед может быть либо помечен, либо нет\n",
    "        dp[v][1] += min(dp[u][1], dp[u][0])\n",
    "\n",
    "def find_minimal_cost(n, adj, costs):\n",
    "    global a, dp\n",
    "    \n",
    "    a = [0] + costs  # Стоимость пометки (сдвигаем на 1, чтобы индексы совпадали)\n",
    "    dp = [[float('inf')] * 2 for _ in range(n+1)]  # dp[v][0, 1]\n",
    "    \n",
    "    # Запускаем DFS с вершины 1\n",
    "    dfs(1, -1)\n",
    "    \n",
    "    # Ответ - минимальная стоимость пометки (минимум из того, что вершина 1 помечена или нет)\n",
    "    min_cost = min(dp[1][0], dp[1][1])\n",
    "    \n",
    "    # Для поиска вершин с минимальной стоимостью\n",
    "    marked = []\n",
    "    \n",
    "    def collect_marked(v, parent, state):\n",
    "        if state == 1:\n",
    "            marked.append(v)\n",
    "        for u in adj[v]:\n",
    "            if u == parent:\n",
    "                continue\n",
    "            # Если для соседей минимальна стоимость в случае, что они не помечены, то помечаем их\n",
    "            if dp[u][0] < dp[u][1]:\n",
    "                collect_marked(u, v, 0)\n",
    "            else:\n",
    "                collect_marked(u, v, 1)\n",
    "    \n",
    "    collect_marked(1, -1, 1 if dp[1][1] < dp[1][0] else 0)\n",
    "    \n",
    "    # Выводим результат\n",
    "    print(min_cost, len(marked))\n",
    "    print(\" \".join(map(str, marked)))\n",
    "\n",
    "# Чтение данных из файла и построение списка смежности\n",
    "with open('input.txt') as file:\n",
    "    n = int(file.readline())  # Читаем количество вершин\n",
    "    adj = defaultdict(list)   # Словарь для списка смежности\n",
    "    \n",
    "    # Построение дерева и списка смежности\n",
    "    for _ in range(n - 1):\n",
    "        a, b = map(int, file.readline().split())\n",
    "        adj[a].append(b)\n",
    "        adj[b].append(a)\n",
    "    \n",
    "    # Стоимости пометки вершин\n",
    "    costs = list(map(int, file.readline().split()))\n",
    "\n",
    "# Решаем задачу\n",
    "find_minimal_cost(n, adj, costs)\n"
   ]
  }
 ],
 "metadata": {
  "kernelspec": {
   "display_name": "mltest",
   "language": "python",
   "name": "python3"
  },
  "language_info": {
   "codemirror_mode": {
    "name": "ipython",
    "version": 3
   },
   "file_extension": ".py",
   "mimetype": "text/x-python",
   "name": "python",
   "nbconvert_exporter": "python",
   "pygments_lexer": "ipython3",
   "version": "3.12.5"
  }
 },
 "nbformat": 4,
 "nbformat_minor": 2
}
