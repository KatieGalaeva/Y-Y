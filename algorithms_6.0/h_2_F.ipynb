{
 "cells": [
  {
   "cell_type": "code",
   "execution_count": 17,
   "metadata": {},
   "outputs": [],
   "source": [
    "n = int(input())\n",
    "a = list(map(int, input().split()))"
   ]
  },
  {
   "cell_type": "code",
   "execution_count": 7,
   "metadata": {},
   "outputs": [
    {
     "name": "stdout",
     "output_type": "stream",
     "text": [
      "4 [1, 2, 3, 4]\n"
     ]
    }
   ],
   "source": [
    "print(n, a)"
   ]
  },
  {
   "cell_type": "code",
   "execution_count": 19,
   "metadata": {},
   "outputs": [
    {
     "data": {
      "text/plain": [
       "630987644"
      ]
     },
     "execution_count": 19,
     "metadata": {},
     "output_type": "execute_result"
    }
   ],
   "source": [
    "def sum_of(n, a):\n",
    "    sum_one = 0        # Сумма одиночных элементов\n",
    "    sum_two = 0        # Сумма произведений пар\n",
    "    sum_three = 0      # Сумма произведений троек\n",
    "\n",
    "    for i in range(n):\n",
    "        sum_three += sum_two * a[i]\n",
    "        sum_two += sum_one * a[i]\n",
    "        sum_one += a[i]\n",
    "    if sum_three>1000000007:\n",
    "        return sum_three%1000000007\n",
    "    return sum_three\n",
    "sum_of(n,a)"
   ]
  },
  {
   "cell_type": "code",
   "execution_count": 12,
   "metadata": {},
   "outputs": [
    {
     "data": {
      "text/plain": [
       "630987644"
      ]
     },
     "execution_count": 12,
     "metadata": {},
     "output_type": "execute_result"
    }
   ],
   "source": [
    "prefix_sum = [0] * n\n",
    "def sum_of_triplet_products(n, a):\n",
    "    # массив для накопления частичных произведений\n",
    "    \n",
    "    prefix_sum[0] = a[0]\n",
    "    \n",
    "    # накопление суммы по prefix_sum\n",
    "    for i in range(1, n):\n",
    "        prefix_sum[i] = prefix_sum[i - 1] + a[i]\n",
    "\n",
    "    # начальная сумма произведений\n",
    "    total_sum = 0\n",
    "\n",
    "    # для всех i < j < k, используя промежуточные суммы\n",
    "    for i in range(n - 2):\n",
    "        for j in range(i + 1, n - 1):\n",
    "            total_sum += a[i] * a[j] * (prefix_sum[n - 1] - prefix_sum[j])\n",
    "    if total_sum>1000000007:\n",
    "        return total_sum%1000000007\n",
    "\n",
    "    return total_sum\n",
    "sum_of_triplet_products(n,a)"
   ]
  }
 ],
 "metadata": {
  "kernelspec": {
   "display_name": "mltest",
   "language": "python",
   "name": "python3"
  },
  "language_info": {
   "codemirror_mode": {
    "name": "ipython",
    "version": 3
   },
   "file_extension": ".py",
   "mimetype": "text/x-python",
   "name": "python",
   "nbconvert_exporter": "python",
   "pygments_lexer": "ipython3",
   "version": "3.12.5"
  }
 },
 "nbformat": 4,
 "nbformat_minor": 2
}
