{
 "cells": [
  {
   "cell_type": "code",
   "execution_count": null,
   "metadata": {},
   "outputs": [],
   "source": [
    "from collections import defaultdict\n",
    "tree = defaultdict(list)\n",
    "with open('input_E.txt') as file:\n",
    "    \n",
    "    n=int(file.readline())\n",
    "    \n",
    "    for i in range(int(n)-1):\n",
    "        a, b = map(int, file.readline().replace('\\n','').split())\n",
    "        tree[b].append(a)     \n",
    "        tree[a].append(b)\n",
    "    \n",
    "file.close()\n"
   ]
  },
  {
   "cell_type": "code",
   "execution_count": 8,
   "metadata": {},
   "outputs": [
    {
     "data": {
      "text/plain": [
       "defaultdict(list,\n",
       "            {2: [1],\n",
       "             1: [2, 3, 4, 5],\n",
       "             3: [1],\n",
       "             4: [1],\n",
       "             5: [1, 6, 7],\n",
       "             6: [5],\n",
       "             7: [5]})"
      ]
     },
     "execution_count": 8,
     "metadata": {},
     "output_type": "execute_result"
    }
   ],
   "source": [
    "tree"
   ]
  },
  {
   "cell_type": "code",
   "execution_count": 9,
   "metadata": {},
   "outputs": [
    {
     "name": "stdout",
     "output_type": "stream",
     "text": [
      "7 1 1 1 3 1 1\n"
     ]
    }
   ],
   "source": [
    "size = [0]*(n+1)\n",
    "def dfs(child, parent, tree, size):\n",
    "    size[child]=1\n",
    "    for neigh in tree[child]:\n",
    "        if neigh != parent:\n",
    "            dfs(neigh, child, tree, size)\n",
    "            size[child] +=size[neigh]\n",
    "\n",
    "dfs(1, 0, tree, size)\n",
    "\n",
    "print(*size[1:])"
   ]
  }
 ],
 "metadata": {
  "kernelspec": {
   "display_name": "mltest",
   "language": "python",
   "name": "python3"
  },
  "language_info": {
   "codemirror_mode": {
    "name": "ipython",
    "version": 3
   },
   "file_extension": ".py",
   "mimetype": "text/x-python",
   "name": "python",
   "nbconvert_exporter": "python",
   "pygments_lexer": "ipython3",
   "version": "3.12.5"
  }
 },
 "nbformat": 4,
 "nbformat_minor": 2
}
