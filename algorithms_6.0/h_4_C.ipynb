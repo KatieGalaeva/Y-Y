{
 "cells": [
  {
   "cell_type": "code",
   "execution_count": 4,
   "metadata": {},
   "outputs": [
    {
     "name": "stdout",
     "output_type": "stream",
     "text": [
      "Paul_I\n",
      "Peter_I\n",
      "Anna\n"
     ]
    }
   ],
   "source": [
    "def depth(person):\n",
    "    depth = 0\n",
    "    while person in tree:\n",
    "        person = tree[person]\n",
    "        depth+=1\n",
    "    return depth\n",
    "def lca(a, b):\n",
    "    depth_a = depth(a)\n",
    "    depth_b = depth(b)\n",
    "    while depth_a > depth_b:\n",
    "        a = tree[a]\n",
    "        depth_a-=1\n",
    "    while depth_a < depth_b:\n",
    "        b = tree[b]\n",
    "        depth_b-=1\n",
    "    while a!=b:\n",
    "        a=tree[a]\n",
    "        b=tree[b]\n",
    "    return a\n",
    "with open('input.txt') as file:\n",
    "    n=int(file.readline())\n",
    "    tree = {}\n",
    "    for i in range(int(n)-1):\n",
    "        child, parent = map(str, file.readline().replace('\\n','').split())\n",
    "        tree[child] = parent\n",
    "    for line in file:\n",
    "        a, b = line.split()\n",
    "        print(lca(a, b))\n",
    "file.close()\n",
    "#print(tree)"
   ]
  }
 ],
 "metadata": {
  "kernelspec": {
   "display_name": "mltest",
   "language": "python",
   "name": "python3"
  },
  "language_info": {
   "codemirror_mode": {
    "name": "ipython",
    "version": 3
   },
   "file_extension": ".py",
   "mimetype": "text/x-python",
   "name": "python",
   "nbconvert_exporter": "python",
   "pygments_lexer": "ipython3",
   "version": "3.12.5"
  }
 },
 "nbformat": 4,
 "nbformat_minor": 2
}
