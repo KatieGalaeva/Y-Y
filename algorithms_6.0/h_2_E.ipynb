{
 "cells": [
  {
   "cell_type": "code",
   "execution_count": 7,
   "metadata": {},
   "outputs": [
    {
     "ename": "UnboundLocalError",
     "evalue": "cannot access local variable 'l' where it is not associated with a value",
     "output_type": "error",
     "traceback": [
      "\u001b[1;31m---------------------------------------------------------------------------\u001b[0m",
      "\u001b[1;31mUnboundLocalError\u001b[0m                         Traceback (most recent call last)",
      "Cell \u001b[1;32mIn[7], line 28\u001b[0m\n\u001b[0;32m     25\u001b[0m a \u001b[38;5;241m=\u001b[39m \u001b[38;5;28mlist\u001b[39m(\u001b[38;5;28mmap\u001b[39m(\u001b[38;5;28mint\u001b[39m, \u001b[38;5;28minput\u001b[39m()\u001b[38;5;241m.\u001b[39msplit()))\n\u001b[0;32m     27\u001b[0m \u001b[38;5;66;03m# Получение результата и вывод\u001b[39;00m\n\u001b[1;32m---> 28\u001b[0m result \u001b[38;5;241m=\u001b[39m \u001b[43mdelete_med\u001b[49m\u001b[43m(\u001b[49m\u001b[43mn\u001b[49m\u001b[43m,\u001b[49m\u001b[43m \u001b[49m\u001b[43ma\u001b[49m\u001b[43m)\u001b[49m\n\u001b[0;32m     29\u001b[0m \u001b[38;5;28mprint\u001b[39m(\u001b[38;5;124m\"\u001b[39m\u001b[38;5;124m \u001b[39m\u001b[38;5;124m\"\u001b[39m\u001b[38;5;241m.\u001b[39mjoin(\u001b[38;5;28mmap\u001b[39m(\u001b[38;5;28mstr\u001b[39m, result)))\n",
      "Cell \u001b[1;32mIn[7], line 13\u001b[0m, in \u001b[0;36mdelete_med\u001b[1;34m(n, a)\u001b[0m\n\u001b[0;32m     11\u001b[0m median_value \u001b[38;5;241m=\u001b[39m sorted_list[median_index]\n\u001b[0;32m     12\u001b[0m result\u001b[38;5;241m.\u001b[39mappend(median_value)\n\u001b[1;32m---> 13\u001b[0m \u001b[38;5;28;01mwhile\u001b[39;00m \u001b[43ml\u001b[49m\u001b[38;5;241m>\u001b[39m\u001b[38;5;241m0\u001b[39m \u001b[38;5;129;01mand\u001b[39;00m r\u001b[38;5;241m<\u001b[39mn:\n\u001b[0;32m     14\u001b[0m     l\u001b[38;5;241m=\u001b[39mmedian_index\u001b[38;5;241m-\u001b[39m\u001b[38;5;241m1\u001b[39m\n\u001b[0;32m     15\u001b[0m     r\u001b[38;5;241m=\u001b[39mmedian_index\u001b[38;5;241m+\u001b[39m\u001b[38;5;241m1\u001b[39m\n",
      "\u001b[1;31mUnboundLocalError\u001b[0m: cannot access local variable 'l' where it is not associated with a value"
     ]
    }
   ],
   "source": [
    "\n",
    "\n",
    "def delete_med(n, a):\n",
    "    result = []\n",
    "    sorted_list = sorted(a)\n",
    "    length = len(sorted_list)\n",
    "    if length % 2 == 1:  # Если длина нечётная\n",
    "        median_index = length // 2\n",
    "        l=median_index-1\n",
    "        r=median_index+1\n",
    "        median_value = sorted_list[median_index]\n",
    "        result.append(median_value)\n",
    "    else:  # Если длина чётная\n",
    "        median_index = length // 2 - 1\n",
    "        l=median_index\n",
    "        r=median_index+1\n",
    "    \n",
    "    \n",
    "    \n",
    "\n",
    "    \n",
    "    while l>=0 and r<n:\n",
    "        \n",
    "        result.append(sorted_list[l])\n",
    "        result.append(sorted_list[r])\n",
    "        l-=1\n",
    "        r+=1\n",
    "        \n",
    "     \n",
    "    return result\n",
    "\n",
    "# Чтение входных данных\n",
    "n = int(input())\n",
    "a = list(map(int, input().split()))\n",
    "\n",
    "# Получение результата и вывод\n",
    "result = delete_med(n, a)\n",
    "print(\" \".join(map(str, result)))"
   ]
  }
 ],
 "metadata": {
  "kernelspec": {
   "display_name": "mltest",
   "language": "python",
   "name": "python3"
  },
  "language_info": {
   "codemirror_mode": {
    "name": "ipython",
    "version": 3
   },
   "file_extension": ".py",
   "mimetype": "text/x-python",
   "name": "python",
   "nbconvert_exporter": "python",
   "pygments_lexer": "ipython3",
   "version": "3.12.5"
  }
 },
 "nbformat": 4,
 "nbformat_minor": 2
}
