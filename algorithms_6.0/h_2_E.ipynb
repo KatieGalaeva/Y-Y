{
 "cells": [
  {
   "cell_type": "code",
   "execution_count": null,
   "metadata": {},
   "outputs": [],
   "source": [
    "\n",
    "\n",
    "def delete_med(n, a):\n",
    "    result = []\n",
    "    sorted_list = sorted(a)\n",
    "    length = len(sorted_list)\n",
    "    if length % 2 == 1:  # Если длина нечётная\n",
    "        median_index = length // 2\n",
    "        l=median_index-1\n",
    "        r=median_index+1\n",
    "        median_value = sorted_list[median_index]\n",
    "        result.append(median_value)\n",
    "    else:  # Если длина чётная\n",
    "        median_index = length // 2 - 1\n",
    "        l=median_index\n",
    "        r=median_index+1\n",
    "    \n",
    "    \n",
    "    \n",
    "\n",
    "    \n",
    "    while l>=0 and r<n:\n",
    "        \n",
    "        result.append(sorted_list[l])\n",
    "        result.append(sorted_list[r])\n",
    "        l-=1\n",
    "        r+=1\n",
    "        \n",
    "     \n",
    "    return result\n",
    "\n",
    "# Чтение входных данных\n",
    "n = int(input())\n",
    "a = list(map(int, input().split()))\n",
    "\n",
    "# Получение результата и вывод\n",
    "result = delete_med(n, a)\n",
    "print(\" \".join(map(str, result)))"
   ]
  }
 ],
 "metadata": {
  "kernelspec": {
   "display_name": "mltest",
   "language": "python",
   "name": "python3"
  },
  "language_info": {
   "codemirror_mode": {
    "name": "ipython",
    "version": 3
   },
   "file_extension": ".py",
   "mimetype": "text/x-python",
   "name": "python",
   "nbconvert_exporter": "python",
   "pygments_lexer": "ipython3",
   "version": "3.12.5"
  }
 },
 "nbformat": 4,
 "nbformat_minor": 2
}
