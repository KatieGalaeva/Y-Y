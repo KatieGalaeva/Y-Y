{
 "cells": [
  {
   "cell_type": "code",
   "execution_count": 23,
   "metadata": {},
   "outputs": [],
   "source": [
    "n = int(input())\n",
    "interest = list(map(int, input().split()))\n",
    "useful = list(map(int, input().split()))\n",
    "mood = list(map(int, input().split()))"
   ]
  },
  {
   "cell_type": "code",
   "execution_count": 9,
   "metadata": {},
   "outputs": [
    {
     "name": "stdout",
     "output_type": "stream",
     "text": [
      "5 [1, 2, 3, 4, 5] [5, 4, 3, 2, 1] [0, 0, 0, 0, 0]\n"
     ]
    }
   ],
   "source": [
    "print(n, interest, useful,mood)"
   ]
  },
  {
   "cell_type": "code",
   "execution_count": null,
   "metadata": {},
   "outputs": [
    {
     "name": "stdout",
     "output_type": "stream",
     "text": [
      "3 4 1 5 2\n"
     ]
    }
   ],
   "source": [
    "\n",
    "def order(n, interest, useful, mood):\n",
    "    by_interest = sorted([(interest[i], useful[i], i + 1) for i in range(n)], \n",
    "                                    key=lambda x: (-x[0], -x[1], x[2]))\n",
    "    \n",
    "    by_usefulness = sorted([(useful[i], interest[i], i + 1) for i in range(n)], \n",
    "                                      key=lambda x: (-x[0], -x[1], x[2]))\n",
    "   \n",
    "    pointer_int, pointer_use = 0, 0  \n",
    "    studied = set()  \n",
    "    result = [] \n",
    "    for day in mood:\n",
    "        if day == 1:\n",
    "            while by_usefulness[pointer_use][2] in studied:\n",
    "                pointer_use += 1\n",
    "            chosen_algorithm = by_usefulness[pointer_use][2]\n",
    "            studied.add(chosen_algorithm)\n",
    "        else:\n",
    "            while by_interest[pointer_int][2] in studied:\n",
    "                pointer_int += 1\n",
    "            chosen_algorithm = by_interest[pointer_int][2]\n",
    "            studied.add(chosen_algorithm)\n",
    "        result.append(chosen_algorithm)\n",
    "    print(\" \".join(map(str, result)))\n",
    "order(n, interest, useful, mood)\n"
   ]
  }
 ],
 "metadata": {
  "kernelspec": {
   "display_name": "mltest",
   "language": "python",
   "name": "python3"
  },
  "language_info": {
   "codemirror_mode": {
    "name": "ipython",
    "version": 3
   },
   "file_extension": ".py",
   "mimetype": "text/x-python",
   "name": "python",
   "nbconvert_exporter": "python",
   "pygments_lexer": "ipython3",
   "version": "3.12.5"
  }
 },
 "nbformat": 4,
 "nbformat_minor": 2
}
