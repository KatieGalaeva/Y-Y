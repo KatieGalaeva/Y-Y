{
 "cells": [
  {
   "cell_type": "code",
   "execution_count": 63,
   "metadata": {},
   "outputs": [
    {
     "name": "stdout",
     "output_type": "stream",
     "text": [
      "['+1', '+2', '+3', '?2', '-', '-', '?1']\n"
     ]
    }
   ],
   "source": [
    "with open('input.txt') as file:\n",
    "    n=int(file.readline())\n",
    "    lines=[]\n",
    "    for i in range(int(n)):\n",
    "        lines.append(file.readline().replace('\\n',''))\n",
    "file.close()\n",
    "print(lines)"
   ]
  },
  {
   "cell_type": "code",
   "execution_count": null,
   "metadata": {},
   "outputs": [
    {
     "name": "stdout",
     "output_type": "stream",
     "text": [
      "5\n",
      "3\n",
      "2\n",
      "1\n"
     ]
    }
   ],
   "source": [
    "with open('input_H.txt') as file:\n",
    "    n=int(file.readline())\n",
    "    lines=[]\n",
    "    for i in range(int(n)):\n",
    "        lines.append(file.readline().replace('\\n',''))\n",
    "file.close()\n",
    "from collections import deque\n",
    "def solve(n, lines):\n",
    "\n",
    "\n",
    "    stack = deque()\n",
    "    sum_stack = deque()\n",
    "\n",
    "    \n",
    "    sum_stack.append(0)\n",
    "    for i in range(n):\n",
    "        operation = lines[i]\n",
    "        \n",
    "        if operation[0] == '+':\n",
    "            x = int(operation[1:])\n",
    "            stack.append(x)\n",
    "            if sum_stack:\n",
    "                sum_stack.append(sum_stack[-1] + x)\n",
    "            else:\n",
    "                sum_stack.append(x)\n",
    "        \n",
    "        elif operation[0] == '-':\n",
    "            removed = stack.pop()\n",
    "            sum_stack.pop()\n",
    "            result = (str(removed))\n",
    "            print(result)\n",
    "        \n",
    "        elif operation[0] == '?':\n",
    "            k = int(operation[1:])\n",
    "            total_sum = sum_stack[-1] - sum_stack[len(sum_stack)-k-1]\n",
    "            result = (str(total_sum))\n",
    "            print(result)\n",
    "        \n",
    "    \n",
    "\n",
    "solve(n, lines)"
   ]
  }
 ],
 "metadata": {
  "kernelspec": {
   "display_name": "mltest",
   "language": "python",
   "name": "python3"
  },
  "language_info": {
   "codemirror_mode": {
    "name": "ipython",
    "version": 3
   },
   "file_extension": ".py",
   "mimetype": "text/x-python",
   "name": "python",
   "nbconvert_exporter": "python",
   "pygments_lexer": "ipython3",
   "version": "3.12.5"
  }
 },
 "nbformat": 4,
 "nbformat_minor": 2
}
