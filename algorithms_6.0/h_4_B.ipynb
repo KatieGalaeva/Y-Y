{
 "cells": [
  {
   "cell_type": "code",
   "execution_count": null,
   "metadata": {},
   "outputs": [
    {
     "name": "stdout",
     "output_type": "stream",
     "text": [
      "{'Peter_I': ['Alexei', 'Anna', 'Elizabeth'], 'Alexei': ['Peter_II'], 'Anna': ['Peter_III'], 'Peter_III': ['Paul_I'], 'Paul_I': ['Alexander_I', 'Nicholaus_I']}\n"
     ]
    }
   ],
   "source": [
    "with open('input.txt') as file:\n",
    "    n=int(file.readline())\n",
    "    tree = {}\n",
    "    for i in range(int(n)-1):\n",
    "        child, parent = map(str, file.readline().replace('\\n','').split())\n",
    "        if parent not in tree:\n",
    "            tree[parent]=[]\n",
    "        \n",
    "        tree[parent].append(child)\n",
    "file.close()\n",
    "print(tree)"
   ]
  },
  {
   "cell_type": "code",
   "execution_count": null,
   "metadata": {},
   "outputs": [],
   "source": [
    "all_people = set(tree.keys() | set([child for children in tree.values() for child in children]))"
   ]
  },
  {
   "cell_type": "code",
   "execution_count": 27,
   "metadata": {},
   "outputs": [
    {
     "data": {
      "text/plain": [
       "{'Alexander_I',\n",
       " 'Alexei',\n",
       " 'Anna',\n",
       " 'Elizabeth',\n",
       " 'Nicholaus_I',\n",
       " 'Paul_I',\n",
       " 'Peter_I',\n",
       " 'Peter_II',\n",
       " 'Peter_III'}"
      ]
     },
     "execution_count": 27,
     "metadata": {},
     "output_type": "execute_result"
    }
   ],
   "source": [
    "all_people"
   ]
  },
  {
   "cell_type": "code",
   "execution_count": null,
   "metadata": {},
   "outputs": [
    {
     "name": "stdout",
     "output_type": "stream",
     "text": [
      "Alexander_I 0\n",
      "Alexei 1\n",
      "Anna 4\n",
      "Elizabeth 0\n",
      "Nicholaus_I 0\n",
      "Paul_I 2\n",
      "Peter_I 8\n",
      "Peter_II 0\n",
      "Peter_III 3\n"
     ]
    },
    {
     "ename": "",
     "evalue": "",
     "output_type": "error",
     "traceback": [
      "\u001b[1;31mThe Kernel crashed while executing code in the current cell or a previous cell. \n",
      "\u001b[1;31mPlease review the code in the cell(s) to identify a possible cause of the failure. \n",
      "\u001b[1;31mClick <a href='https://aka.ms/vscodeJupyterKernelCrash'>here</a> for more info. \n",
      "\u001b[1;31mView Jupyter <a href='command:jupyter.viewOutput'>log</a> for further details."
     ]
    }
   ],
   "source": [
    "import sys\n",
    "\n",
    "sys.setrecursionlimit(100000)\n",
    "neightbour={}\n",
    "def calculate_neightbour(person, neightbour):\n",
    "    if person in neightbour:\n",
    "        return neightbour[person]\n",
    "    if person not in tree:\n",
    "        neightbour[person]=0\n",
    "        return 0\n",
    "    count=0\n",
    "    for child in tree[person]:\n",
    "        count+=1+calculate_neightbour(child, neightbour)\n",
    "    \n",
    "    neightbour[person]=count\n",
    "    return count\n",
    "for person in all_people:\n",
    "    calculate_neightbour(person, neightbour)\n",
    "for person in sorted(neightbour.keys()):\n",
    "    print(person, neightbour[person])"
   ]
  }
 ],
 "metadata": {
  "kernelspec": {
   "display_name": "mltest",
   "language": "python",
   "name": "python3"
  },
  "language_info": {
   "codemirror_mode": {
    "name": "ipython",
    "version": 3
   },
   "file_extension": ".py",
   "mimetype": "text/x-python",
   "name": "python",
   "nbconvert_exporter": "python",
   "pygments_lexer": "ipython3",
   "version": "3.12.5"
  }
 },
 "nbformat": 4,
 "nbformat_minor": 2
}
