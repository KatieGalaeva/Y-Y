{
 "cells": [
  {
   "cell_type": "code",
   "execution_count": 89,
   "metadata": {},
   "outputs": [],
   "source": [
    "n, k = map(int, input().split())\n",
    "num=[]\n",
    "row=input().split(' ')\n",
    "for i in range(n):\n",
    "    num.append(int(row[i]))\n"
   ]
  },
  {
   "cell_type": "code",
   "execution_count": 78,
   "metadata": {},
   "outputs": [
    {
     "name": "stdout",
     "output_type": "stream",
     "text": [
      "4 4\n",
      "[11, 22, 33, 44]\n"
     ]
    }
   ],
   "source": [
    "print(n,k)\n",
    "print(num)"
   ]
  },
  {
   "cell_type": "code",
   "execution_count": 79,
   "metadata": {},
   "outputs": [],
   "source": [
    "def q_sort(lst):\n",
    "    if len(lst)<2:\n",
    "        return lst\n",
    "    else:\n",
    "        piv = lst[0]\n",
    "        less =[i for i in lst[1:] if i <= piv]\n",
    "        greater = [i for i in lst[1:] if i>piv]\n",
    "        return q_sort(less) + [piv] + q_sort(greater)\n",
    "num_sort = q_sort(num)\n"
   ]
  },
  {
   "cell_type": "code",
   "execution_count": 90,
   "metadata": {},
   "outputs": [
    {
     "name": "stdout",
     "output_type": "stream",
     "text": [
      "[11, 22, 33, 44]\n",
      "1\n"
     ]
    }
   ],
   "source": [
    "num_sort = sorted(num)\n",
    "from collections import defaultdict\n",
    "def min_days(n,k,num):\n",
    "    activity = defaultdict(int)\n",
    "    for i in num:\n",
    "        activity[i] +=1\n",
    "    count = 0\n",
    "   \n",
    "    unique_activities = sorted(activity.keys())\n",
    "    print(unique_activities)\n",
    "    \n",
    "    \n",
    "    while activity:\n",
    "        unique_activities=sorted(activity.keys())\n",
    "        i = 0\n",
    "        if len(activity)==1:\n",
    "            a=activity[unique_activities[i]]\n",
    "            count+=1*a\n",
    "            break\n",
    "        \n",
    "    # Process each unique direction while maintaining diversity constraints\n",
    "        while i < len(activity):\n",
    "        \n",
    "        # Start a new day\n",
    "            j = i\n",
    "            \n",
    "        # Try to pack as many tasks in the same day as possible without violating the constraint\n",
    "            while j <len(unique_activities):\n",
    "                if unique_activities[j] - unique_activities[i] <= k:\n",
    "                    j += 1\n",
    "                else:\n",
    "        # Move to the next possible unique activity that wasn't assigned to the current day\n",
    "                    if activity[unique_activities[i]]==1:\n",
    "                        del activity[unique_activities[i]]\n",
    "                    elif activity[unique_activities[i]]>1:\n",
    "                        activity[unique_activities[i]]-=1\n",
    "                    i = j\n",
    "                    j+=1\n",
    "                    #if j==len(unique_activities):\n",
    "                    #    del activity[unique_activities[j-1]]\n",
    "                    #    break\n",
    "            \n",
    "            if activity[unique_activities[i]]==1:\n",
    "                del activity[unique_activities[i]]\n",
    "            elif activity[unique_activities[i]]>1:\n",
    "                activity[unique_activities[i]]-=1\n",
    "            count +=1\n",
    "            i=j\n",
    "            \n",
    "    \n",
    "\n",
    "    return count\n",
    "\n",
    "\n",
    "\n",
    "print(min_days(n,k,num_sort))"
   ]
  },
  {
   "cell_type": "code",
   "execution_count": null,
   "metadata": {},
   "outputs": [],
   "source": []
  }
 ],
 "metadata": {
  "kernelspec": {
   "display_name": "mltest",
   "language": "python",
   "name": "python3"
  },
  "language_info": {
   "codemirror_mode": {
    "name": "ipython",
    "version": 3
   },
   "file_extension": ".py",
   "mimetype": "text/x-python",
   "name": "python",
   "nbconvert_exporter": "python",
   "pygments_lexer": "ipython3",
   "version": "3.12.5"
  }
 },
 "nbformat": 4,
 "nbformat_minor": 2
}
