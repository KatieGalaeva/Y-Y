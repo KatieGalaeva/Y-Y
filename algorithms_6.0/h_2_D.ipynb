{
 "cells": [
  {
   "cell_type": "code",
   "execution_count": 157,
   "metadata": {},
   "outputs": [],
   "source": [
    "n, k = map(int, input().split())\n",
    "num=[]\n",
    "row=input().split(' ')\n",
    "for i in range(n):\n",
    "    num.append(int(row[i]))\n"
   ]
  },
  {
   "cell_type": "code",
   "execution_count": 150,
   "metadata": {},
   "outputs": [
    {
     "name": "stdout",
     "output_type": "stream",
     "text": [
      "3 1\n",
      "[1, 2, 3]\n"
     ]
    }
   ],
   "source": [
    "print(n,k)\n",
    "print(num)"
   ]
  },
  {
   "cell_type": "code",
   "execution_count": null,
   "metadata": {},
   "outputs": [
    {
     "name": "stdout",
     "output_type": "stream",
     "text": [
      "2\n"
     ]
    }
   ],
   "source": [
    "#на 62\n",
    "from queue import Queue\n",
    "def min_days(n, k, num):\n",
    "    if n == 0:\n",
    "        return 0\n",
    "\n",
    "    num_sorted = sorted(num)\n",
    "    leftover_day = 0\n",
    "    cur_day = 0\n",
    "    # print(num_sorted)\n",
    "\n",
    "    days = [num_sorted[0]]\n",
    "    q=Queue()\n",
    "\n",
    "    for i in range(1, n):\n",
    "        # print(f\"{i}, num {num_sorted[i]}, num[i - 1] {num_sorted[i - 1]}\")\n",
    "        diff = num_sorted[i] - days[cur_day]\n",
    "        # print(f\"diff {diff}\")\n",
    "\n",
    "        if diff > k:\n",
    "            days[cur_day] = num_sorted[i]\n",
    "            continue\n",
    "        \n",
    "        leftover = num_sorted[i] - days[leftover_day]\n",
    "        if leftover <= k:\n",
    "            #print(f\"leftover {leftover} from {leftover_day} <= k {k}\")\n",
    "            \n",
    "            #print(\"inc day\", cur_day)\n",
    "            \n",
    "            days.append(num_sorted[i])\n",
    "            cur_day = len(days)-1\n",
    "            q.put(cur_day)\n",
    "            \n",
    "        elif leftover_day != cur_day:\n",
    "            #print(f\"leftover {leftover} from {leftover_day} > k {k}\")\n",
    "            \n",
    "            \n",
    "            cur_day = leftover_day\n",
    "            q.put(cur_day)\n",
    "            if q.empty():\n",
    "                leftover_day=(leftover_day+1)%len(days)\n",
    "            else:\n",
    "                leftover_day = q.get()\n",
    "            days[cur_day] = num_sorted[i]\n",
    "        else:\n",
    "            #print(f\"leftover {leftover} from {leftover_day} > k {k} but leftover_day == cur_day\")\n",
    "            \n",
    "            #print(\"inc day\", cur_day)\n",
    "            \n",
    "            days.append(num_sorted[i])\n",
    "            cur_day =len(days)-1\n",
    "            q.put(cur_day)\n",
    "    \n",
    "    # print(days)\n",
    "\n",
    "    return len(days)\n",
    "\n",
    "\n",
    "\n",
    "#n, k = 9, 2\n",
    "#num = [3, 8, 5, 7, 1, 2, 4, 9, 6]\n",
    "#n, k = 9, 3\n",
    "#num = [1, 2, 3, 4, 5, 6, 7, 8, 9]\n",
    "# n, k = 3, 2\n",
    "# num = [4, 2, 1]\n",
    "# n, k = 3, 0\n",
    "# num = [1, 3, 1]\n",
    "# n, k = 4, 4\n",
    "# num = [32, 77, 1, 100]\n",
    "# n, k = 5, 2\n",
    "# num = [3, 7, 5, 3, 8]\n",
    "# n, k = 5, 2\n",
    "# num = [3, 7, 6, 3, 9]\n",
    "\n",
    "#n,k = 9, 0\n",
    "#num = [4, 2, 4, 2, 3, 2, 1, 1, 4]\n",
    "\n",
    "print(min_days(n, k, num))"
   ]
  }
 ],
 "metadata": {
  "kernelspec": {
   "display_name": "mltest",
   "language": "python",
   "name": "python3"
  },
  "language_info": {
   "codemirror_mode": {
    "name": "ipython",
    "version": 3
   },
   "file_extension": ".py",
   "mimetype": "text/x-python",
   "name": "python",
   "nbconvert_exporter": "python",
   "pygments_lexer": "ipython3",
   "version": "3.12.5"
  }
 },
 "nbformat": 4,
 "nbformat_minor": 2
}
