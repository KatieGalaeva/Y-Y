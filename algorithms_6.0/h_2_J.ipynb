{
 "cells": [
  {
   "cell_type": "code",
   "execution_count": 1,
   "metadata": {},
   "outputs": [],
   "source": [
    "n = int(input())\n",
    "weight = list(map(int, input().split()))\n",
    "m, k = map(int, input().split())\n",
    "number_exp = list(map(int, input().split()))"
   ]
  },
  {
   "cell_type": "code",
   "execution_count": 8,
   "metadata": {},
   "outputs": [
    {
     "name": "stdout",
     "output_type": "stream",
     "text": [
      "6 [3, 3, 3, 4, 4, 5] 4 2 [3, 4, 5, 6]\n"
     ]
    }
   ],
   "source": [
    "print(n, weight, m, k, number_exp)"
   ]
  },
  {
   "cell_type": "code",
   "execution_count": 19,
   "metadata": {},
   "outputs": [
    {
     "name": "stdout",
     "output_type": "stream",
     "text": [
      "[0, 1, 2, 0, 1, 0, 0]\n",
      "\n",
      "None\n"
     ]
    }
   ],
   "source": [
    "def solve(n, weight, m, k, number_exp):\n",
    "    count_less=[0]*(n+1)\n",
    "    count=0\n",
    "    for i in range(n,0,-1):\n",
    "        count_less[i]=count\n",
    "        point=i-2\n",
    "        count=0\n",
    "        while weight[i-1]>weight[point]:\n",
    "            #if count_less[i]!=0:\n",
    "            #    count_less[i-1]=count_less[i]-1\n",
    "            count+=1\n",
    "            i-=1\n",
    "            point-=1\n",
    "        else:\n",
    "            \n",
    "            continue\n",
    "    count_equal=[0]*(n+1)\n",
    "    count=0\n",
    "    for i in range(n,0,-1):\n",
    "        count_equal[i]=count\n",
    "        point=i-2\n",
    "        count=0\n",
    "        while weight[i-1]==weight[point]:\n",
    "            #if count_less[i]!=0:\n",
    "            #    count_less[i-1]=count_less[i]-1\n",
    "            count+=1\n",
    "            i-=1\n",
    "            point-=1\n",
    "        else:\n",
    "            \n",
    "            continue\n",
    "        \n",
    "    print(count_equal)\n",
    "    result=[]\n",
    "\n",
    "    print(\" \".join(map(str, result)))\n",
    "print(solve(n, weight, m, k, number_exp))"
   ]
  }
 ],
 "metadata": {
  "kernelspec": {
   "display_name": "mltest",
   "language": "python",
   "name": "python3"
  },
  "language_info": {
   "codemirror_mode": {
    "name": "ipython",
    "version": 3
   },
   "file_extension": ".py",
   "mimetype": "text/x-python",
   "name": "python",
   "nbconvert_exporter": "python",
   "pygments_lexer": "ipython3",
   "version": "3.12.5"
  }
 },
 "nbformat": 4,
 "nbformat_minor": 2
}
