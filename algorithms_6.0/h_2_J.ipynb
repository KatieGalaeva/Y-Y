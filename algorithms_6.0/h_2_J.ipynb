{
 "cells": [
  {
   "cell_type": "code",
   "execution_count": 80,
   "metadata": {},
   "outputs": [],
   "source": [
    "n = int(input())\n",
    "weight = list(map(int, input().split()))\n",
    "m, k = map(int, input().split())\n",
    "number_exp = list(map(int, input().split()))"
   ]
  },
  {
   "cell_type": "code",
   "execution_count": 75,
   "metadata": {},
   "outputs": [
    {
     "name": "stdout",
     "output_type": "stream",
     "text": [
      "6 [3, 3, 3, 4, 4, 5] 4 2 [3, 4, 5, 6]\n"
     ]
    }
   ],
   "source": [
    "print(n, weight, m, k, number_exp)"
   ]
  },
  {
   "cell_type": "code",
   "execution_count": null,
   "metadata": {},
   "outputs": [
    {
     "name": "stdout",
     "output_type": "stream",
     "text": [
      "[0, 0, 0, 0, 0, 1, 1]\n",
      "[0, 1, 2, 0, 1, 2, 0]\n",
      "None\n"
     ]
    }
   ],
   "source": [
    "def solve(n, weight, m, k, number_exp):\n",
    "    \n",
    "    count_equal = [0]*n\n",
    "    previous_element = None\n",
    "    current_count = 0\n",
    "    i=0\n",
    "    for item in weight:\n",
    "        \n",
    "        if item == previous_element:\n",
    "            current_count += 1\n",
    "        #else:\n",
    "            #current_count = 0\n",
    "        count_equal[i]=(current_count)\n",
    "        previous_element = item\n",
    "        i+=1\n",
    "    print(count_equal)\n",
    "\n",
    "    count_less = [0]*n\n",
    "    previous_element = None\n",
    "    current_count = 0\n",
    "    for i, num in enumerate(weight):\n",
    "        if previous_element is not None and num < previous_element:\n",
    "            current_count = 0\n",
    "        elif previous_element is not None and num >= previous_element:\n",
    "            current_count += 1\n",
    "        else:\n",
    "            current_count = 0\n",
    "        count_less[i]=current_count\n",
    "        previous_element = num\n",
    "    print(count_less)\n",
    "    \n",
    "    #for i in number_exp:\n",
    "        \n",
    "\n",
    "    #result=[]\n",
    "    #print(\" \".join(map(str, result)))\n",
    "\n",
    "\n",
    "print(solve(n, weight, m, k, number_exp))"
   ]
  }
 ],
 "metadata": {
  "kernelspec": {
   "display_name": "mltest",
   "language": "python",
   "name": "python3"
  },
  "language_info": {
   "codemirror_mode": {
    "name": "ipython",
    "version": 3
   },
   "file_extension": ".py",
   "mimetype": "text/x-python",
   "name": "python",
   "nbconvert_exporter": "python",
   "pygments_lexer": "ipython3",
   "version": "3.12.5"
  }
 },
 "nbformat": 4,
 "nbformat_minor": 2
}
