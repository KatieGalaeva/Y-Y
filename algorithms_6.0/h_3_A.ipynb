{
 "cells": [
  {
   "cell_type": "code",
   "execution_count": 44,
   "metadata": {},
   "outputs": [],
   "source": [
    "s = input().strip()"
   ]
  },
  {
   "cell_type": "code",
   "execution_count": 27,
   "metadata": {},
   "outputs": [
    {
     "data": {
      "text/plain": [
       "'([)]'"
      ]
     },
     "execution_count": 27,
     "metadata": {},
     "output_type": "execute_result"
    }
   ],
   "source": [
    "s"
   ]
  },
  {
   "cell_type": "code",
   "execution_count": null,
   "metadata": {},
   "outputs": [
    {
     "name": "stdout",
     "output_type": "stream",
     "text": [
      "no\n"
     ]
    }
   ],
   "source": [
    "from collections import deque\n",
    "\n",
    "def solve(s):\n",
    "    stack = deque()\n",
    "    brackets = {')': '(', ']': '[', '}': '{'}\n",
    "    for item in s:\n",
    "        if item in brackets.values():\n",
    "            stack.append(item)\n",
    "        elif item in brackets.keys():\n",
    "            if stack and stack[-1] == brackets[item]:\n",
    "                stack.pop()\n",
    "            else:\n",
    "                return \"no\"\n",
    "        else:\n",
    "            return \"no\"\n",
    "    return \"yes\" if not stack else \"no\"\n",
    "print(solve(s))\n",
    "\n",
    "\n",
    "\n"
   ]
  }
 ],
 "metadata": {
  "kernelspec": {
   "display_name": "mltest",
   "language": "python",
   "name": "python3"
  },
  "language_info": {
   "codemirror_mode": {
    "name": "ipython",
    "version": 3
   },
   "file_extension": ".py",
   "mimetype": "text/x-python",
   "name": "python",
   "nbconvert_exporter": "python",
   "pygments_lexer": "ipython3",
   "version": "3.12.5"
  }
 },
 "nbformat": 4,
 "nbformat_minor": 2
}
