{
 "cells": [
  {
   "cell_type": "code",
   "execution_count": 171,
   "metadata": {},
   "outputs": [],
   "source": [
    "A=int(input())\n",
    "B=int(input())\n",
    "C=int(input())\n",
    "D=int(input())"
   ]
  },
  {
   "cell_type": "code",
   "execution_count": 172,
   "metadata": {},
   "outputs": [
    {
     "name": "stdout",
     "output_type": "stream",
     "text": [
      "1 508\n"
     ]
    }
   ],
   "source": [
    "ans=[]\n",
    "if A>0 and C>0:\n",
    "    ans.append([B+1, D+1])\n",
    "if B>0 and D>0:\n",
    "    ans.append([A+1, C+1])\n",
    "if A>0 and B>0:\n",
    "    ans.append([max(A,B)+1, 1])\n",
    "if C>0 and D>0:\n",
    "    ans.append([1, max(C,D)+1])\n",
    "m=min(ans, key=sum)\n",
    "print(*m)\n",
    "\n",
    "\n",
    "\n"
   ]
  }
 ],
 "metadata": {
  "kernelspec": {
   "display_name": "mltest",
   "language": "python",
   "name": "python3"
  },
  "language_info": {
   "codemirror_mode": {
    "name": "ipython",
    "version": 3
   },
   "file_extension": ".py",
   "mimetype": "text/x-python",
   "name": "python",
   "nbconvert_exporter": "python",
   "pygments_lexer": "ipython3",
   "version": "3.12.5"
  }
 },
 "nbformat": 4,
 "nbformat_minor": 2
}
