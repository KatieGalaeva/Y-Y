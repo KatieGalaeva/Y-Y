{
 "cells": [
  {
   "cell_type": "code",
   "execution_count": 171,
   "metadata": {},
   "outputs": [],
   "source": [
    "A=int(input())\n",
    "B=int(input())\n",
    "C=int(input())\n",
    "D=int(input())"
   ]
  },
  {
   "cell_type": "code",
   "execution_count": 172,
   "metadata": {},
   "outputs": [
    {
     "name": "stdout",
     "output_type": "stream",
     "text": [
      "1 508\n"
     ]
    }
   ],
   "source": [
    "if A==0:\n",
    "    print(1, C+1)\n",
    "elif B==0:\n",
    "    print(1, D+1)\n",
    "elif C==0:\n",
    "    print(A+1, 1)\n",
    "elif D==0:\n",
    "    print(B+1, 1)\n",
    "if A!=0 and B!=0 and C!=0 and D!=0:\n",
    "    if A>B:\n",
    "        min_m=B\n",
    "        max_m=A\n",
    "    else:\n",
    "        min_m=A\n",
    "        max_m=B\n",
    "    if C>D:\n",
    "        min_n=D\n",
    "        max_n=C\n",
    "    else:\n",
    "        min_n=C\n",
    "        max_n=D\n",
    "    if min_m==min_n:\n",
    "        print(min_m+1, 1)\n",
    "    \n",
    "    else:\n",
    "        \n",
    "        if min_n+min_m>max_m and min_n+min_m>max_n:\n",
    "            if max_m>max_n:\n",
    "                print(1, max_n+1)\n",
    "            else:\n",
    "                print(max_m+1, 1)\n",
    "        elif min_n+min_m>max_m and min_n+min_m<=max_n:\n",
    "            print(max_m+1,1)\n",
    "        elif min_n+min_m<=max_m and min_n+min_m<=max_n:\n",
    "            if A>B and C>D or A<B and C<D:\n",
    "                print(min_m+1,min_n+1)\n",
    "            elif A<B and D<C: \n",
    "                if C>B:\n",
    "                    print(max_m+1,1)\n",
    "                else:\n",
    "                    print(1, max_n+1)\n",
    "            elif A>B and D>C:\n",
    "                if A<D:\n",
    "                    print(max_m+1,1)\n",
    "                else:\n",
    "                    print(1,max_n+1)\n",
    "        else :\n",
    "            print(min_m+1,min_n+1)\n",
    "if A==0 and B==0 and C==0 and D==0:\n",
    "    print(0,0)\n",
    "\n",
    "\n",
    "\n"
   ]
  }
 ],
 "metadata": {
  "kernelspec": {
   "display_name": "mltest",
   "language": "python",
   "name": "python3"
  },
  "language_info": {
   "codemirror_mode": {
    "name": "ipython",
    "version": 3
   },
   "file_extension": ".py",
   "mimetype": "text/x-python",
   "name": "python",
   "nbconvert_exporter": "python",
   "pygments_lexer": "ipython3",
   "version": "3.12.5"
  }
 },
 "nbformat": 4,
 "nbformat_minor": 2
}
