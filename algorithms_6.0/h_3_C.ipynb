{
 "cells": [
  {
   "cell_type": "code",
   "execution_count": 17,
   "metadata": {},
   "outputs": [],
   "source": [
    "n, k = map(int, input().split())\n",
    "a = list(map(int, input().split()))\n"
   ]
  },
  {
   "cell_type": "code",
   "execution_count": 10,
   "metadata": {},
   "outputs": [
    {
     "name": "stdout",
     "output_type": "stream",
     "text": [
      "8 3 [3, 2, 4, 6, 2, 3, 5, 7]\n"
     ]
    }
   ],
   "source": [
    "print(n, k, a)"
   ]
  },
  {
   "cell_type": "code",
   "execution_count": 22,
   "metadata": {},
   "outputs": [
    {
     "name": "stdout",
     "output_type": "stream",
     "text": [
      "1\n",
      "2\n",
      "2\n",
      "3\n",
      "1\n"
     ]
    }
   ],
   "source": [
    "from collections import deque\n",
    "def find_min(n, k, a):\n",
    "    dq = deque()\n",
    "    for i in range(n):        \n",
    "        if dq and dq[0] <= i -k:\n",
    "            dq.popleft()\n",
    "        while dq and a[dq[-1]] >= a[i]:\n",
    "            dq.pop()\n",
    "        dq.append(i)\n",
    "        if i >=k-1:\n",
    "            print(a[dq[0]])    \n",
    "\n",
    "find_min(n, k, a)"
   ]
  }
 ],
 "metadata": {
  "kernelspec": {
   "display_name": "mltest",
   "language": "python",
   "name": "python3"
  },
  "language_info": {
   "codemirror_mode": {
    "name": "ipython",
    "version": 3
   },
   "file_extension": ".py",
   "mimetype": "text/x-python",
   "name": "python",
   "nbconvert_exporter": "python",
   "pygments_lexer": "ipython3",
   "version": "3.12.5"
  }
 },
 "nbformat": 4,
 "nbformat_minor": 2
}
