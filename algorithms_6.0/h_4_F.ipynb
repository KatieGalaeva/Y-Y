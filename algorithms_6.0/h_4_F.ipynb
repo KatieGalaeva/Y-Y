{
 "cells": [
  {
   "cell_type": "code",
   "execution_count": 16,
   "metadata": {},
   "outputs": [],
   "source": [
    "import sys\n",
    "from collections import defaultdict, deque\n",
    "n = int(input())\n",
    "a = list(map(int, input().split()))"
   ]
  },
  {
   "cell_type": "code",
   "execution_count": 17,
   "metadata": {},
   "outputs": [
    {
     "data": {
      "text/plain": [
       "defaultdict(list, {1: [2, 3]})"
      ]
     },
     "execution_count": 17,
     "metadata": {},
     "output_type": "execute_result"
    }
   ],
   "source": [
    "dict = defaultdict(list)\n",
    "for i in range(2, n+1):\n",
    "    dict[a[i-2]].append(i)\n",
    "dict"
   ]
  },
  {
   "cell_type": "code",
   "execution_count": null,
   "metadata": {},
   "outputs": [
    {
     "name": "stdout",
     "output_type": "stream",
     "text": [
      "5 1 1\n"
     ]
    }
   ],
   "source": [
    "count_coins = [0] * (n+1)\n",
    "def calculate_coins(person):\n",
    "    if not dict[person]:\n",
    "        count_coins[person]=1\n",
    "        return 1\n",
    "    number_children=0\n",
    "    total_coins = 0\n",
    "    for child in dict[person]:\n",
    "        number_children += calculate_coins(child)\n",
    "        total_coins += count_coins[child]\n",
    "    count_coins[person] = number_children + total_coins +1\n",
    "\n",
    "    return number_children + 1\n",
    "calculate_coins(1)\n",
    "print(*count_coins[1:])\n"
   ]
  }
 ],
 "metadata": {
  "kernelspec": {
   "display_name": "mltest",
   "language": "python",
   "name": "python3"
  },
  "language_info": {
   "codemirror_mode": {
    "name": "ipython",
    "version": 3
   },
   "file_extension": ".py",
   "mimetype": "text/x-python",
   "name": "python",
   "nbconvert_exporter": "python",
   "pygments_lexer": "ipython3",
   "version": "3.12.5"
  }
 },
 "nbformat": 4,
 "nbformat_minor": 2
}
