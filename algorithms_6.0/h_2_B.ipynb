{
 "cells": [
  {
   "cell_type": "code",
   "execution_count": 51,
   "metadata": {},
   "outputs": [],
   "source": [
    "n, k = map(int, input().split())\n",
    "num=[]\n",
    "row=input().split(' ')\n",
    "for i in range(n):\n",
    "    num.append(int(row[i]))"
   ]
  },
  {
   "cell_type": "code",
   "execution_count": 52,
   "metadata": {},
   "outputs": [
    {
     "data": {
      "text/plain": [
       "[17, 6, 1, 10, 3, 3, 1, 10]"
      ]
     },
     "execution_count": 52,
     "metadata": {},
     "output_type": "execute_result"
    }
   ],
   "source": [
    "num"
   ]
  },
  {
   "cell_type": "code",
   "execution_count": 53,
   "metadata": {},
   "outputs": [
    {
     "data": {
      "text/plain": [
       "[0, 17, 23, 24, 34, 37, 40, 41, 51]"
      ]
     },
     "execution_count": 53,
     "metadata": {},
     "output_type": "execute_result"
    }
   ],
   "source": [
    "def makeprefsum(lst):\n",
    "    pref=[0]*(n+1)\n",
    "    for i in range(1, len(lst)+1):\n",
    "        pref[i]=pref[i-1]+lst[i-1]\n",
    "    return pref\n",
    "makeprefsum(num)"
   ]
  },
  {
   "cell_type": "code",
   "execution_count": 54,
   "metadata": {},
   "outputs": [
    {
     "name": "stdout",
     "output_type": "stream",
     "text": [
      "5\n"
     ]
    }
   ],
   "source": [
    "def countcars(lst, k):\n",
    "    count=0\n",
    "    index=0\n",
    "    pref=makeprefsum(lst)\n",
    "    for i in pref[1:]:\n",
    "       \n",
    "        if i/k==1:\n",
    "            count+=1\n",
    "        for j in pref[index+2:]:\n",
    "            if j-i==k:\n",
    "                count+=1\n",
    "        index+=1\n",
    "        \n",
    "    return count\n",
    "        \n",
    "print(countcars(num,k))\n"
   ]
  }
 ],
 "metadata": {
  "kernelspec": {
   "display_name": "mltest",
   "language": "python",
   "name": "python3"
  },
  "language_info": {
   "codemirror_mode": {
    "name": "ipython",
    "version": 3
   },
   "file_extension": ".py",
   "mimetype": "text/x-python",
   "name": "python",
   "nbconvert_exporter": "python",
   "pygments_lexer": "ipython3",
   "version": "3.12.5"
  }
 },
 "nbformat": 4,
 "nbformat_minor": 2
}
