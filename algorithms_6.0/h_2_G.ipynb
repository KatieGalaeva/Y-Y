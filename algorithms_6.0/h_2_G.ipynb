{
 "cells": [
  {
   "cell_type": "code",
   "execution_count": 58,
   "metadata": {},
   "outputs": [],
   "source": [
    "n, c = map(int, input().split())\n",
    "s = input().strip()"
   ]
  },
  {
   "cell_type": "code",
   "execution_count": 64,
   "metadata": {},
   "outputs": [
    {
     "name": "stdout",
     "output_type": "stream",
     "text": [
      "6 2 bbbbbb\n"
     ]
    }
   ],
   "source": [
    "print(n,c,s)"
   ]
  },
  {
   "cell_type": "code",
   "execution_count": 67,
   "metadata": {},
   "outputs": [
    {
     "name": "stdout",
     "output_type": "stream",
     "text": [
      "6\n"
     ]
    }
   ],
   "source": [
    "def max_length(n, c, s):\n",
    "    max_len = 0\n",
    "    l = 0\n",
    "    roughness = 0\n",
    "    count_a = 0 \n",
    "    count_b = 0 \n",
    "    extra=0\n",
    "    bestl=0\n",
    "    bestr=0\n",
    "    max_len=0\n",
    "    for r in range(n):\n",
    "        if s[r] == 'a':\n",
    "            count_a += 1\n",
    "        elif s[r] == 'b':\n",
    "            roughness += count_a\n",
    "            count_b+=1\n",
    "        else:\n",
    "            extra+=1\n",
    "\n",
    "        while roughness > c and l < n:\n",
    "            if s[l] == 'a':\n",
    "                count_a -= 1\n",
    "                roughness-=count_b\n",
    "            elif s[l] == 'b':\n",
    "                #roughness -= count_a\n",
    "                count_b-=1\n",
    "            else:\n",
    "                extra-=1\n",
    "            l += 1\n",
    "\n",
    "        max_len =max(max_len, r-l+1)\n",
    "    \n",
    "    return max_len\n",
    "print(max_length(n, c, s))"
   ]
  }
 ],
 "metadata": {
  "kernelspec": {
   "display_name": "mltest",
   "language": "python",
   "name": "python3"
  },
  "language_info": {
   "codemirror_mode": {
    "name": "ipython",
    "version": 3
   },
   "file_extension": ".py",
   "mimetype": "text/x-python",
   "name": "python",
   "nbconvert_exporter": "python",
   "pygments_lexer": "ipython3",
   "version": "3.12.5"
  }
 },
 "nbformat": 4,
 "nbformat_minor": 2
}
