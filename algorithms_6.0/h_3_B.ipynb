{
 "cells": [
  {
   "cell_type": "code",
   "execution_count": 97,
   "metadata": {},
   "outputs": [],
   "source": [
    "n = int(input())\n",
    "a = list(map(int, input().split()))"
   ]
  },
  {
   "cell_type": "code",
   "execution_count": 82,
   "metadata": {},
   "outputs": [
    {
     "name": "stdout",
     "output_type": "stream",
     "text": [
      "10 [1, 2, 3, 2, 1, 4, 2, 5, 3, 0]\n"
     ]
    }
   ],
   "source": [
    "print(n, a)"
   ]
  },
  {
   "cell_type": "code",
   "execution_count": 98,
   "metadata": {},
   "outputs": [
    {
     "name": "stdout",
     "output_type": "stream",
     "text": [
      "1 -1\n"
     ]
    }
   ],
   "source": [
    "from collections import deque\n",
    "stack = deque()\n",
    "result=[0]*n\n",
    "\n",
    "for index, item in enumerate(a):\n",
    "\n",
    "    if not stack:\n",
    "        stack.append([item, index])\n",
    "    else:\n",
    "        previous = stack[-1][0]\n",
    "\n",
    "        while item<previous:\n",
    "            \n",
    "            result[stack[-1][1]]=index\n",
    "            stack.pop()\n",
    "            if not stack:\n",
    "                break\n",
    "            else:\n",
    "                \n",
    "                previous=stack[-1][0]\n",
    "           \n",
    "        stack.append([item, index])\n",
    "    \n",
    "for i in range(len(stack)):\n",
    "    \n",
    "    result[stack[i][1]]=-1\n",
    "print(*result)\n",
    "\n"
   ]
  }
 ],
 "metadata": {
  "kernelspec": {
   "display_name": "mltest",
   "language": "python",
   "name": "python3"
  },
  "language_info": {
   "codemirror_mode": {
    "name": "ipython",
    "version": 3
   },
   "file_extension": ".py",
   "mimetype": "text/x-python",
   "name": "python",
   "nbconvert_exporter": "python",
   "pygments_lexer": "ipython3",
   "version": "3.12.5"
  }
 },
 "nbformat": 4,
 "nbformat_minor": 2
}
