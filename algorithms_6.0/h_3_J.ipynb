{
 "cells": [
  {
   "cell_type": "code",
   "execution_count": 376,
   "metadata": {},
   "outputs": [],
   "source": [
    "\n",
    "n, H = map(int, input().split())\n",
    "heights = list(map(int, input().split()))\n",
    "widths = list(map(int, input().split()))"
   ]
  },
  {
   "cell_type": "code",
   "execution_count": 377,
   "metadata": {},
   "outputs": [
    {
     "name": "stdout",
     "output_type": "stream",
     "text": [
      "5 9 [1, 3, 6, 5, 2] [3, 4, 3, 2, 1]\n"
     ]
    }
   ],
   "source": [
    "print(n, H, heights, widths)"
   ]
  },
  {
   "cell_type": "code",
   "execution_count": 378,
   "metadata": {},
   "outputs": [
    {
     "name": "stdout",
     "output_type": "stream",
     "text": [
      "2\n"
     ]
    }
   ],
   "source": [
    "def max_discomfort(n, H, heights, widths):\n",
    "    chairs_sort = sorted([(heights[i], widths[i], i) for i in range(n)],    \n",
    "                key=lambda x: (x[0], x[1]))\n",
    "    min_discomfort = float('inf')\n",
    "    width_sum = 0\n",
    "    left = 0\n",
    "    diffs=[0]*(n-1)\n",
    "    for i in range(1, n):   \n",
    "            diffs[i-1] = abs(chairs_sort[i][0] - chairs_sort[i - 1][0])\n",
    "    for right in range(n):\n",
    "        width_sum += chairs_sort[right][1]  \n",
    "        while width_sum >= H:\n",
    "            discomfort = max(diffs[left:right]) if right > left else 0\n",
    "            min_discomfort = min(min_discomfort, discomfort)\n",
    "            width_sum -= chairs_sort[left][1]\n",
    "            left += 1\n",
    "    return min_discomfort\n",
    "\n",
    "\n",
    "print(max_discomfort(n, H, heights, widths))"
   ]
  },
  {
   "cell_type": "code",
   "execution_count": 383,
   "metadata": {},
   "outputs": [
    {
     "name": "stdout",
     "output_type": "stream",
     "text": [
      "1\n"
     ]
    }
   ],
   "source": [
    "\n",
    "n, H = map(int, input().split())\n",
    "heights = list(map(int, input().split()))\n",
    "widths = list(map(int, input().split()))\n",
    "from collections import deque\n",
    "\n",
    "def max_discomfort(n, H, heights, widths):\n",
    "    chairs_sort = sorted([(heights[i], widths[i], i) for i in range(n)], key=lambda x: (x[0], x[1]))\n",
    "    min_discomfort = float('inf')\n",
    "    width_sum = 0\n",
    "    left = 0\n",
    "    diffs = [0] * (n - 1)\n",
    "    for i in range(1, n):\n",
    "        diffs[i - 1] = abs(chairs_sort[i][0] - chairs_sort[i - 1][0])\n",
    "    max_dq = deque()\n",
    "\n",
    "    for right in range(n):\n",
    "        width_sum += chairs_sort[right][1]\n",
    "        if right > 0:\n",
    "            while max_dq and diffs[max_dq[-1]] <= diffs[right - 1]:\n",
    "                max_dq.pop()\n",
    "            max_dq.append(right - 1)\n",
    "        while width_sum >= H:\n",
    "            if max_dq:\n",
    "                discomfort = diffs[max_dq[0]]\n",
    "            else:\n",
    "                discomfort = 0\n",
    "\n",
    "            min_discomfort = min(min_discomfort, discomfort)\n",
    "            width_sum -= chairs_sort[left][1]\n",
    "            left += 1\n",
    "            if max_dq and max_dq[0] < left:\n",
    "                max_dq.popleft()\n",
    "\n",
    "    return min_discomfort\n",
    "print(max_discomfort(n, H, heights, widths))"
   ]
  }
 ],
 "metadata": {
  "kernelspec": {
   "display_name": "mltest",
   "language": "python",
   "name": "python3"
  },
  "language_info": {
   "codemirror_mode": {
    "name": "ipython",
    "version": 3
   },
   "file_extension": ".py",
   "mimetype": "text/x-python",
   "name": "python",
   "nbconvert_exporter": "python",
   "pygments_lexer": "ipython3",
   "version": "3.12.5"
  }
 },
 "nbformat": 4,
 "nbformat_minor": 2
}
