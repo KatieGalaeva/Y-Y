{
 "cells": [
  {
   "cell_type": "code",
   "execution_count": 177,
   "metadata": {},
   "outputs": [],
   "source": [
    "n = int(input())\n",
    "w = input().strip()\n",
    "s = input().strip()"
   ]
  },
  {
   "cell_type": "code",
   "execution_count": 167,
   "metadata": {},
   "outputs": [
    {
     "name": "stdout",
     "output_type": "stream",
     "text": [
      "6 ][)( ([\n"
     ]
    }
   ],
   "source": [
    "print(n, w, s)"
   ]
  },
  {
   "cell_type": "code",
   "execution_count": 178,
   "metadata": {},
   "outputs": [
    {
     "name": "stdout",
     "output_type": "stream",
     "text": [
      "([()])\n"
     ]
    }
   ],
   "source": [
    "from collections import defaultdict\n",
    "from collections import deque\n",
    "def print_str(n, w, s):\n",
    "    priority = defaultdict(list)\n",
    "    priority = {w[i]: i for i in range(4)}\n",
    "    stack=deque()\n",
    "    result = list(s)\n",
    "\n",
    "    for item in s:\n",
    "        if item in '([':\n",
    "            stack.append(item)\n",
    "        else:\n",
    "            if stack and ((item == ')' and stack[-1] == '(') or (item == ']' and stack[-1] == '[')):\n",
    "                stack.pop()\n",
    "             \n",
    "    while len(result) <(n) and  len(stack) < (n - len(result))  :\n",
    "        if not stack or (stack[-1] == '(' and priority['('] < priority[')']) or \\\n",
    "            (stack[-1] == '(' and priority['['] < priority[')']):\n",
    "            result.append('(') if priority['('] < priority['['] else result.append('[')\n",
    "            stack.append('(') if priority['('] < priority['['] else stack.append('[')\n",
    "        elif not stack or (stack[-1] == '[' and priority['['] < priority[']']) or \\\n",
    "            (stack[-1] == '[' and priority['('] < priority[']'])  :\n",
    "            result.append('[') if priority['['] < priority['('] else result.append('(')\n",
    "            stack.append('[') if priority['['] < priority['('] else stack.append('(')\n",
    "        else:\n",
    "            open = stack.pop()\n",
    "            result.append(')' if open == '(' else ']')\n",
    "    while stack:\n",
    "        open = stack.pop()\n",
    "        result.append(')' if open == '(' else ']')\n",
    "    \n",
    "    return ''.join(result)\n",
    "\n",
    "\n",
    "print(print_str(n, w, s))\n"
   ]
  }
 ],
 "metadata": {
  "kernelspec": {
   "display_name": "mltest",
   "language": "python",
   "name": "python3"
  },
  "language_info": {
   "codemirror_mode": {
    "name": "ipython",
    "version": 3
   },
   "file_extension": ".py",
   "mimetype": "text/x-python",
   "name": "python",
   "nbconvert_exporter": "python",
   "pygments_lexer": "ipython3",
   "version": "3.12.5"
  }
 },
 "nbformat": 4,
 "nbformat_minor": 2
}
