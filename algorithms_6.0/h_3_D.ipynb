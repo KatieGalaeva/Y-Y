{
 "cells": [
  {
   "cell_type": "code",
   "execution_count": 23,
   "metadata": {},
   "outputs": [],
   "source": [
    "s = input().split()"
   ]
  },
  {
   "cell_type": "code",
   "execution_count": 8,
   "metadata": {},
   "outputs": [
    {
     "data": {
      "text/plain": [
       "['8', '9', '+', '1', '7', '-', '*']"
      ]
     },
     "execution_count": 8,
     "metadata": {},
     "output_type": "execute_result"
    }
   ],
   "source": [
    "s"
   ]
  },
  {
   "cell_type": "code",
   "execution_count": 22,
   "metadata": {},
   "outputs": [
    {
     "name": "stdout",
     "output_type": "stream",
     "text": [
      "1\n"
     ]
    }
   ],
   "source": [
    "from collections import deque\n",
    "def calculate(s):\n",
    "    stack = deque()\n",
    "    for i in s:\n",
    "        if i.isdigit():\n",
    "            stack.append(int(i))\n",
    "        else:\n",
    "            a=stack.pop()\n",
    "            b=stack.pop()\n",
    "            if i=='+':\n",
    "                stack.append(b+a)\n",
    "            elif i=='-':\n",
    "                stack.append(b-a)\n",
    "            elif i=='*':\n",
    "                stack.append(a*b)\n",
    "\n",
    "    print(stack[0])\n",
    "calculate(s)"
   ]
  }
 ],
 "metadata": {
  "kernelspec": {
   "display_name": "mltest",
   "language": "python",
   "name": "python3"
  },
  "language_info": {
   "codemirror_mode": {
    "name": "ipython",
    "version": 3
   },
   "file_extension": ".py",
   "mimetype": "text/x-python",
   "name": "python",
   "nbconvert_exporter": "python",
   "pygments_lexer": "ipython3",
   "version": "3.12.5"
  }
 },
 "nbformat": 4,
 "nbformat_minor": 2
}
