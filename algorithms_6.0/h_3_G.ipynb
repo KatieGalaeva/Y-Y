{
 "cells": [
  {
   "cell_type": "code",
   "execution_count": 191,
   "metadata": {},
   "outputs": [],
   "source": [
    "n, b = map(int, input().split())\n",
    "a = list(map(int, input().split()))"
   ]
  },
  {
   "cell_type": "code",
   "execution_count": 192,
   "metadata": {},
   "outputs": [
    {
     "name": "stdout",
     "output_type": "stream",
     "text": [
      "10 1 [0, 0, 0, 10, 0, 0, 0, 0, 100, 0]\n"
     ]
    }
   ],
   "source": [
    "print(n, b, a)"
   ]
  },
  {
   "cell_type": "markdown",
   "metadata": {},
   "source": [
    "both work"
   ]
  },
  {
   "cell_type": "code",
   "execution_count": 1134,
   "metadata": {},
   "outputs": [
    {
     "name": "stdout",
     "output_type": "stream",
     "text": [
      "16\n"
     ]
    }
   ],
   "source": [
    "n, b = map(int, input().split())\n",
    "a = list(map(int, input().split()))\n",
    "from collections import deque\n",
    "def total_time_in_queue_3(n, b, a):\n",
    "    queue = deque()  \n",
    "    total_wait_time = 0  \n",
    "    current_queue_size = 0  \n",
    "    clients_wait_1, clients_wait_2 = 0, 0\n",
    "\n",
    "    for minute in range(n):\n",
    "        if a[minute] > 0:\n",
    "            queue.append([a[minute], minute])  \n",
    "        if a[minute] == 0 and current_queue_size==0:\n",
    "            continue\n",
    "\n",
    "        clients_served = min(current_queue_size + a[minute], b)\n",
    "        time_spent = 0\n",
    "        check=0\n",
    "        while clients_served > 0 and queue:\n",
    "            group = queue[0]\n",
    "            \n",
    "            if group[0] <= clients_served:\n",
    "                time_spent += group[0] * (minute - group[1] + 1)\n",
    "                clients_wait_1 = group[0]\n",
    "                clients_served -= group[0]\n",
    "                clients_wait_2 = 0\n",
    "                queue.popleft() \n",
    "                check=1\n",
    "            else:\n",
    "                if check==0:\n",
    "                    clients_wait_1=0\n",
    "                time_spent += clients_served * (minute - group[1] + 1)\n",
    "                group[0] -= clients_served\n",
    "                clients_wait_2 = clients_served\n",
    "                clients_served = 0\n",
    "\n",
    "        total_wait_time += time_spent\n",
    "        current_queue_size += a[minute] - clients_wait_1 - clients_wait_2 \n",
    "\n",
    "    while queue:\n",
    "        group = queue.popleft()\n",
    "        total_wait_time += group[0] * (n + 1 - group[1])  \n",
    "\n",
    "    return total_wait_time\n",
    "\n",
    "print(total_time_in_queue_3(n, b, a))"
   ]
  },
  {
   "cell_type": "code",
   "execution_count": 1577,
   "metadata": {},
   "outputs": [
    {
     "name": "stdout",
     "output_type": "stream",
     "text": [
      "19\n"
     ]
    }
   ],
   "source": [
    "n, b = map(int, input().split())\n",
    "a = list(map(int, input().split()))\n",
    "def total_time(n, b, a):\n",
    "    len_queue = 0\n",
    "    full_time = 0\n",
    "    for i in range(n):\n",
    "        len_queue += a[i]\n",
    "        full_time += len_queue\n",
    "        len_queue -= min(len_queue, b)\n",
    "    full_time+=len_queue\n",
    "    return full_time\n",
    "print(total_time(n, b, a))"
   ]
  }
 ],
 "metadata": {
  "kernelspec": {
   "display_name": "mltest",
   "language": "python",
   "name": "python3"
  },
  "language_info": {
   "codemirror_mode": {
    "name": "ipython",
    "version": 3
   },
   "file_extension": ".py",
   "mimetype": "text/x-python",
   "name": "python",
   "nbconvert_exporter": "python",
   "pygments_lexer": "ipython3",
   "version": "3.12.5"
  }
 },
 "nbformat": 4,
 "nbformat_minor": 2
}
