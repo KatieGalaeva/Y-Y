{
 "cells": [
  {
   "cell_type": "code",
   "execution_count": 101,
   "metadata": {},
   "outputs": [],
   "source": [
    "n = int(input())\n",
    "a = list(map(int, input().split()))"
   ]
  },
  {
   "cell_type": "code",
   "execution_count": 103,
   "metadata": {},
   "outputs": [
    {
     "name": "stdout",
     "output_type": "stream",
     "text": [
      "5 [1, 2, 3, 4, 5]\n",
      "5\n"
     ]
    }
   ],
   "source": [
    "print(n,a)\n",
    "print(len(a))"
   ]
  },
  {
   "cell_type": "code",
   "execution_count": 111,
   "metadata": {},
   "outputs": [
    {
     "name": "stdout",
     "output_type": "stream",
     "text": [
      "10\n"
     ]
    }
   ],
   "source": [
    "\n",
    "\n",
    "rigth_to_left = [0] * (n)\n",
    "left_to_right = [0] * (n)\n",
    "pref_sum=[0]*(n+1)\n",
    "for i in range(1, len(a)+1):\n",
    "    pref_sum[i]=pref_sum[i-1]+a[i-1]\n",
    "#print(pref_sum)\n",
    "rigth_to_left[0]=sum(a[i]*i for i in range(n))\n",
    "\n",
    "for i in range(1, n):\n",
    "    rigth_to_left[i]=rigth_to_left[i-1] - a[i] - (pref_sum[n]-pref_sum[i+1])\n",
    "#print(rigth_to_left)\n",
    "\n",
    "left_to_right[n-1]=sum(a[i]*(n-i-1) for i in range(n))\n",
    "\n",
    "\n",
    "\n",
    "\n",
    "for i in range(n - 2, 0, -1):\n",
    "    left_to_right[i] = left_to_right[i+1] - a[i] -(pref_sum[i]-pref_sum[0])\n",
    "#print(left_to_right)\n",
    "result = [left_to_right[i] + rigth_to_left[i] for i in range(len(rigth_to_left))]\n",
    "#print(result)\n",
    "print(min(result))\n",
    "\n",
    "# Минимальный переход\n",
    "#min_moves = float('inf')\n",
    "#for i in range(n):\n",
    "#    min_moves = min(min_moves, left[i] + right[i])"
   ]
  }
 ],
 "metadata": {
  "kernelspec": {
   "display_name": "mltest",
   "language": "python",
   "name": "python3"
  },
  "language_info": {
   "codemirror_mode": {
    "name": "ipython",
    "version": 3
   },
   "file_extension": ".py",
   "mimetype": "text/x-python",
   "name": "python",
   "nbconvert_exporter": "python",
   "pygments_lexer": "ipython3",
   "version": "3.12.5"
  }
 },
 "nbformat": 4,
 "nbformat_minor": 2
}
