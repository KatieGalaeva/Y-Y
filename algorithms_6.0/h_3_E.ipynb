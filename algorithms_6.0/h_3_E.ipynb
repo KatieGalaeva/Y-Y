{
 "cells": [
  {
   "cell_type": "code",
   "execution_count": null,
   "metadata": {},
   "outputs": [
    {
     "name": "stdout",
     "output_type": "stream",
     "text": [
      "WRONG\n"
     ]
    }
   ],
   "source": [
    "s = input().strip()\n",
    "\n",
    "\n",
    "from collections import deque\n",
    "def calculate(operators, numbers):\n",
    "    a = numbers.pop()\n",
    "    b = numbers.pop()\n",
    "    operation = operators.pop()\n",
    "    if operation == '+':\n",
    "        numbers.append(b + a)\n",
    "    elif operation == '-':\n",
    "        numbers.append(b - a)\n",
    "    elif operation == '*':\n",
    "        numbers.append(b * a)\n",
    "def is_operator(c):\n",
    "    return c in \"+-*\"\n",
    "def priority(operator):\n",
    "    if operator == '+' or operator == '-':\n",
    "        return 1\n",
    "    elif operator == '*':\n",
    "        return 2\n",
    "    else:\n",
    "        return 0\n",
    "def calculate_and_check(s):\n",
    "    operators = deque()\n",
    "    number = []\n",
    "    i = 0\n",
    "    while i < len(s):\n",
    "        if s[i] == ' ':\n",
    "            i+=1\n",
    "            continue\n",
    "        if s[i] == '(':\n",
    "            operators.append(s[i])\n",
    "        elif s[i] == ')':\n",
    "            while operators[-1]!= '(':\n",
    "                calculate(operators, number)\n",
    "            operators.pop()\n",
    "        elif s[i].isdigit():\n",
    "            j=i\n",
    "            while j<len(s) and s[j].isdigit():\n",
    "                j+=1\n",
    "            number.append(int(s[i:j]))\n",
    "            i=j-1\n",
    "        elif is_operator(s[i]):\n",
    "            if s[i] == '-' and (i == 0 or s[i - 1] == '('):\n",
    "                j = i + 1\n",
    "                while j < len(s) and s[j].isdigit():\n",
    "                    j += 1\n",
    "                number.append(-int(s[i+1:j]))  \n",
    "                i = j - 1\n",
    "            else:\n",
    "                while (operators and operators[-1] != '(' and\n",
    "                       priority(s[i]) <= priority(operators[-1])):\n",
    "                    calculate(operators, number)\n",
    "                operators.append(s[i])\n",
    "        else:\n",
    "            return \"WRONG\"\n",
    "        i+=1\n",
    "    \n",
    "    while operators:\n",
    "        calculate(operators, number)\n",
    "\n",
    "    return number[-1] if len(number)==1 else \"WRONG\"\n",
    "   \n",
    "try:\n",
    "    result = calculate_and_check(s)\n",
    "    print(result)\n",
    "except:\n",
    "    print(\"WRONG\")"
   ]
  },
  {
   "cell_type": "code",
   "execution_count": null,
   "metadata": {},
   "outputs": [
    {
     "name": "stdout",
     "output_type": "stream",
     "text": [
      "[-1]\n"
     ]
    }
   ],
   "source": []
  }
 ],
 "metadata": {
  "kernelspec": {
   "display_name": "mltest",
   "language": "python",
   "name": "python3"
  },
  "language_info": {
   "codemirror_mode": {
    "name": "ipython",
    "version": 3
   },
   "file_extension": ".py",
   "mimetype": "text/x-python",
   "name": "python",
   "nbconvert_exporter": "python",
   "pygments_lexer": "ipython3",
   "version": "3.12.5"
  }
 },
 "nbformat": 4,
 "nbformat_minor": 2
}
