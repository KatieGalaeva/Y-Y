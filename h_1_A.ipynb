{
 "cells": [
  {
   "cell_type": "code",
   "execution_count": 29,
   "metadata": {},
   "outputs": [],
   "source": [
    "x1=int(input())\n",
    "y1=int(input())\n",
    "x2=int(input())\n",
    "y2=int(input())\n",
    "x=int(input())\n",
    "y=int(input())"
   ]
  },
  {
   "cell_type": "code",
   "execution_count": 30,
   "metadata": {},
   "outputs": [
    {
     "name": "stdout",
     "output_type": "stream",
     "text": [
      "SE\n"
     ]
    }
   ],
   "source": [
    "if y1<y<y2:\n",
    "    if x>x2:\n",
    "        print(\"E\")\n",
    "    else:\n",
    "        print(\"W\")\n",
    "elif x1<x<x2:\n",
    "    if y>y2:\n",
    "        print(\"N\")\n",
    "    else:\n",
    "        print(\"S\")\n",
    "elif x>x2 and y>y2:\n",
    "    print('NE')\n",
    "elif x>x2 and y<y1:\n",
    "    print('SE')\n",
    "elif x<x1 and y<y1:\n",
    "    print('SW')\n",
    "elif x<x1 and y>y2:\n",
    "    print('NW')\n"
   ]
  }
 ],
 "metadata": {
  "kernelspec": {
   "display_name": "mltest",
   "language": "python",
   "name": "python3"
  },
  "language_info": {
   "codemirror_mode": {
    "name": "ipython",
    "version": 3
   },
   "file_extension": ".py",
   "mimetype": "text/x-python",
   "name": "python",
   "nbconvert_exporter": "python",
   "pygments_lexer": "ipython3",
   "version": "3.12.5"
  }
 },
 "nbformat": 4,
 "nbformat_minor": 2
}
